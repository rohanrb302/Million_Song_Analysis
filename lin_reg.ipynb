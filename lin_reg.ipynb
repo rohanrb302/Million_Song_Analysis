{
 "cells": [
  {
   "cell_type": "code",
   "execution_count": null,
   "metadata": {},
   "outputs": [],
   "source": [
    "# Import required packages/libraries:\n",
    "import os\n",
    "import sys\n",
    "from pyspark.sql.types import DoubleType\n",
    "from pyspark.sql.functions import isnan, when, count, col\n",
    "\n",
    "# Dependencies for Regression Algorithms:\n",
    "from pyspark.ml.feature import VectorAssembler\n",
    "from pyspark.ml.regression import LinearRegression\n",
    "from pyspark.ml.feature import PCA\n",
    "from pyspark.ml import Pipeline\n",
    "from pyspark.ml.evaluation import RegressionEvaluator\n",
    "from pyspark.ml.tuning import CrossValidator, ParamGridBuilder"
   ]
  },
  {
   "cell_type": "code",
   "execution_count": null,
   "metadata": {},
   "outputs": [],
   "source": [
    "# Define sql context:\n",
    "from pyspark.sql import SQLContext\n",
    "sqlContext = SQLContext(sc)"
   ]
  },
  {
   "cell_type": "code",
   "execution_count": null,
   "metadata": {},
   "outputs": [],
   "source": [
    "# Load train and test datasets form S3:\n",
    "\n",
    "train_df = spark.read.parquet(\"s3://projectmlldsongs/songs_data_split/type=train/\")\n",
    "test_df = spark.read.parquet(\"s3://projectmlldsongs/songs_data_split/type=test/\")"
   ]
  },
  {
   "cell_type": "code",
   "execution_count": null,
   "metadata": {},
   "outputs": [],
   "source": [
    "##Linear Regression Model"
   ]
  },
  {
   "cell_type": "code",
   "execution_count": null,
   "metadata": {},
   "outputs": [],
   "source": [
    "# Convert Rows of dataframe to Dense Vectors:\n",
    "assembler = VectorAssembler(\n",
    "    inputCols=['artist_familiarity','duration','loudness','key_confidence','key','end_of_fade_in',\n",
    "               'time_signature_confidence','tempo','mode'],\n",
    "    outputCol='features')\n",
    "\n",
    "# Create linear regression object\n",
    "lr = LinearRegression(labelCol='song_hotttnesss', featuresCol='features')\n",
    "\n",
    "# Create a pipeline to sequentially perform operations on the training set:\n",
    "pipeline = Pipeline(stages=[assembler, lr])"
   ]
  },
  {
   "cell_type": "code",
   "execution_count": null,
   "metadata": {},
   "outputs": [],
   "source": [
    "# Perform 4-fold cross validation on the train dataset:\n",
    "#paramGrid = ParamGridBuilder()\\\n",
    "#    .addGrid(lr.regParam, [0.1, 0.01]) \\\n",
    "#    .addGrid(lr.fitIntercept, [False, True])\\\n",
    "#    .addGrid(lr.elasticNetParam, [0.0, 0.5, 1.0])\\\n",
    "#    .build()\n",
    "\n",
    "#crossval = CrossValidator(estimator=pipeline,\n",
    "#                          estimatorParamMaps=paramGrid,\n",
    "#                          evaluator=RegressionEvaluator(metricName=\"rmse\",labelCol=\"song_hotttnesss\",predictionCol=\"prediction\"),\n",
    "#                          numFolds=4)\n",
    "\n",
    "\n",
    "#Train the model:\n",
    "lrmodel = pipeline.fit(train_df)\n"
   ]
  },
  {
   "cell_type": "code",
   "execution_count": null,
   "metadata": {},
   "outputs": [],
   "source": [
    "# Make predictions on test set\n",
    "predictions = lrmodel.transform(test_df)\n",
    "\n",
    "# Select example rows to display.\n",
    "predictions.select(\"prediction\", \"song_hotttnesss\", \"features\").show(5)\n",
    "\n",
    "# Select (prediction, true label) and compute test error\n",
    "evaluator = RegressionEvaluator(\n",
    "    labelCol=\"song_hotttnesss\", predictionCol=\"prediction\", metricName=\"rmse\")\n",
    "rmse = evaluator.evaluate(predictions)\n",
    "\n",
    "# Print RMSE:\n",
    "print(\"Root Mean Squared Error (RMSE) on test data = %g\" % rmse)\n"
   ]
  },
  {
   "cell_type": "code",
   "execution_count": null,
   "metadata": {},
   "outputs": [],
   "source": [
    "# Save trained model object in S3:\n",
    "\n",
    "lrmodel.save(\"s3://projectmlldsongs/saved_models/linear_regression/\")"
   ]
  },
  {
   "cell_type": "code",
   "execution_count": null,
   "metadata": {},
   "outputs": [],
   "source": [
    "# PCA snippet: to be included later....\n",
    "\n",
    "#pca = PCA(k=2, inputCol=\"features\",outputCol=\"features\")\n",
    "\n",
    "# Add the pca object to Pipeline"
   ]
  }
 ],
 "metadata": {
  "kernelspec": {
   "display_name": "PySpark",
   "language": "",
   "name": "pysparkkernel"
  },
  "language_info": {
   "codemirror_mode": {
    "name": "python",
    "version": 3
   },
   "mimetype": "text/x-python",
   "name": "pyspark",
   "pygments_lexer": "python3"
  }
 },
 "nbformat": 4,
 "nbformat_minor": 4
}
