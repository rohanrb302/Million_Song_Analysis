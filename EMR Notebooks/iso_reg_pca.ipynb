{
 "cells": [
  {
   "cell_type": "code",
   "execution_count": 1,
   "metadata": {},
   "outputs": [
    {
     "name": "stdout",
     "output_type": "stream",
     "text": [
      "Starting Spark application\n"
     ]
    },
    {
     "data": {
      "text/html": [
       "<table>\n",
       "<tr><th>ID</th><th>YARN Application ID</th><th>Kind</th><th>State</th><th>Spark UI</th><th>Driver log</th><th>Current session?</th></tr><tr><td>32</td><td>application_1606590675617_0033</td><td>pyspark</td><td>idle</td><td><a target=\"_blank\" href=\"http://ip-172-31-21-27.ec2.internal:20888/proxy/application_1606590675617_0033/\">Link</a></td><td><a target=\"_blank\" href=\"http://ip-172-31-26-250.ec2.internal:8042/node/containerlogs/container_1606590675617_0033_01_000001/livy\">Link</a></td><td>✔</td></tr></table>"
      ],
      "text/plain": [
       "<IPython.core.display.HTML object>"
      ]
     },
     "metadata": {},
     "output_type": "display_data"
    },
    {
     "data": {
      "application/vnd.jupyter.widget-view+json": {
       "model_id": "",
       "version_major": 2,
       "version_minor": 0
      },
      "text/plain": [
       "FloatProgress(value=0.0, bar_style='info', description='Progress:', layout=Layout(height='25px', width='50%'),…"
      ]
     },
     "metadata": {},
     "output_type": "display_data"
    },
    {
     "name": "stdout",
     "output_type": "stream",
     "text": [
      "SparkSession available as 'spark'.\n"
     ]
    },
    {
     "data": {
      "application/vnd.jupyter.widget-view+json": {
       "model_id": "",
       "version_major": 2,
       "version_minor": 0
      },
      "text/plain": [
       "FloatProgress(value=0.0, bar_style='info', description='Progress:', layout=Layout(height='25px', width='50%'),…"
      ]
     },
     "metadata": {},
     "output_type": "display_data"
    }
   ],
   "source": [
    "# Import required packages/libraries:\n",
    "import os\n",
    "import sys\n",
    "from pyspark.sql.types import DoubleType\n",
    "from pyspark.sql.functions import isnan, when, count, col\n",
    "from pyspark.sql import DataFrame\n",
    "from functools import reduce\n",
    "\n",
    "# Dependencies for Regression Algorithms:\n",
    "from pyspark.ml.feature import VectorAssembler\n",
    "from pyspark.ml.feature import PCA\n",
    "from pyspark.ml import Pipeline\n",
    "from pyspark.ml.evaluation import RegressionEvaluator\n",
    "from pyspark.ml.regression import IsotonicRegression"
   ]
  },
  {
   "cell_type": "code",
   "execution_count": 2,
   "metadata": {},
   "outputs": [
    {
     "data": {
      "application/vnd.jupyter.widget-view+json": {
       "model_id": "",
       "version_major": 2,
       "version_minor": 0
      },
      "text/plain": [
       "FloatProgress(value=0.0, bar_style='info', description='Progress:', layout=Layout(height='25px', width='50%'),…"
      ]
     },
     "metadata": {},
     "output_type": "display_data"
    }
   ],
   "source": [
    "# Define sql context:\n",
    "from pyspark.sql import SQLContext\n",
    "sqlContext = SQLContext(sc)"
   ]
  },
  {
   "cell_type": "code",
   "execution_count": 3,
   "metadata": {},
   "outputs": [
    {
     "data": {
      "application/vnd.jupyter.widget-view+json": {
       "model_id": "",
       "version_major": 2,
       "version_minor": 0
      },
      "text/plain": [
       "FloatProgress(value=0.0, bar_style='info', description='Progress:', layout=Layout(height='25px', width='50%'),…"
      ]
     },
     "metadata": {},
     "output_type": "display_data"
    }
   ],
   "source": [
    "# Load train and test datasets form S3:\n",
    "\n",
    "df = spark.read.parquet(\"s3://projectmlldsongs/songs_data_split_v2/type=full/\")\n",
    "train_df = spark.read.parquet(\"s3://projectmlldsongs/songs_data_split_v2/type=train/\")\n",
    "test_df = spark.read.parquet(\"s3://projectmlldsongs/songs_data_split_v2/type=test/\")"
   ]
  },
  {
   "cell_type": "code",
   "execution_count": 4,
   "metadata": {},
   "outputs": [
    {
     "data": {
      "application/vnd.jupyter.widget-view+json": {
       "model_id": "",
       "version_major": 2,
       "version_minor": 0
      },
      "text/plain": [
       "FloatProgress(value=0.0, bar_style='info', description='Progress:', layout=Layout(height='25px', width='50%'),…"
      ]
     },
     "metadata": {},
     "output_type": "display_data"
    }
   ],
   "source": [
    "##Isotonic Regression Model"
   ]
  },
  {
   "cell_type": "code",
   "execution_count": 9,
   "metadata": {},
   "outputs": [
    {
     "data": {
      "application/vnd.jupyter.widget-view+json": {
       "model_id": "",
       "version_major": 2,
       "version_minor": 0
      },
      "text/plain": [
       "FloatProgress(value=0.0, bar_style='info', description='Progress:', layout=Layout(height='25px', width='50%'),…"
      ]
     },
     "metadata": {},
     "output_type": "display_data"
    }
   ],
   "source": [
    "# Convert Rows of dataframe to Dense Vectors:\n",
    "assembler = VectorAssembler(\n",
    "    inputCols=['artist_familiarity','duration','loudness','key_confidence','key','end_of_fade_in',\n",
    "            'time_signature_confidence','tempo','mode'],\n",
    "    outputCol='features')"
   ]
  },
  {
   "cell_type": "code",
   "execution_count": 10,
   "metadata": {},
   "outputs": [
    {
     "data": {
      "application/vnd.jupyter.widget-view+json": {
       "model_id": "",
       "version_major": 2,
       "version_minor": 0
      },
      "text/plain": [
       "FloatProgress(value=0.0, bar_style='info', description='Progress:', layout=Layout(height='25px', width='50%'),…"
      ]
     },
     "metadata": {},
     "output_type": "display_data"
    }
   ],
   "source": [
    "# List containing values of k:\n",
    "pca_list = [1,2,3,4,5,6,7,8,9]\n",
    "\n",
    "# Empty list for storing rmse values:\n",
    "rmse_list = []\n",
    "\n",
    "for num_features in pca_list:\n",
    "    \n",
    "    # Define pca object:\n",
    "    pca = PCA(k=num_features, inputCol=\"features\",outputCol=\"features_pca\")\n",
    "    \n",
    "    # Create a pipeline to sequentially perform operations on the training set:\n",
    "    pipeline_pca = Pipeline(stages=[assembler, pca])\n",
    "    \n",
    "    # Fit pca model on full dataset:\n",
    "    pcamodel = pipeline_pca.fit(df)\n",
    "    \n",
    "    # Apply pca on training data and test data:\n",
    "    train_predictions = pcamodel.transform(train_df)\n",
    "    pca_train_data = train_predictions.select(\"features_pca\",\"song_hotttnesss\")\n",
    "    test_predictions = pcamodel.transform(test_df)\n",
    "    pca_test_data = test_predictions.select(\"features_pca\",\"song_hotttnesss\")\n",
    "    \n",
    "    # Define isotonic regression model:\n",
    "    isoreg = IsotonicRegression(labelCol='song_hotttnesss', featuresCol='features_pca')\n",
    "    \n",
    "    #Train model on lower-dimensional features:\n",
    "    isomodel = isoreg.fit(pca_train_data)\n",
    "    \n",
    "    # Evaluate on test data:\n",
    "    predictions = isomodel.transform(pca_test_data)\n",
    "    \n",
    "    # Select (prediction, true label) and compute test error\n",
    "    evaluator = RegressionEvaluator(\n",
    "        labelCol=\"song_hotttnesss\", predictionCol=\"prediction\", metricName=\"rmse\")\n",
    "    \n",
    "    rmse = evaluator.evaluate(predictions)\n",
    "    \n",
    "    # Store rmse value in a list:\n",
    "    rmse_list.append(rmse)"
   ]
  },
  {
   "cell_type": "code",
   "execution_count": 11,
   "metadata": {},
   "outputs": [
    {
     "data": {
      "application/vnd.jupyter.widget-view+json": {
       "model_id": "",
       "version_major": 2,
       "version_minor": 0
      },
      "text/plain": [
       "FloatProgress(value=0.0, bar_style='info', description='Progress:', layout=Layout(height='25px', width='50%'),…"
      ]
     },
     "metadata": {},
     "output_type": "display_data"
    },
    {
     "name": "stdout",
     "output_type": "stream",
     "text": [
      "[0.094594581209568, 0.09459458120956801, 0.094594581209568, 0.09459458120956801, 0.09459458120956801, 0.094594581209568, 0.09459458120956801, 0.09459458120956801, 0.094594581209568]"
     ]
    }
   ],
   "source": [
    "print(rmse_list)"
   ]
  }
 ],
 "metadata": {
  "kernelspec": {
   "display_name": "PySpark",
   "language": "",
   "name": "pysparkkernel"
  },
  "language_info": {
   "codemirror_mode": {
    "name": "python",
    "version": 3
   },
   "mimetype": "text/x-python",
   "name": "pyspark",
   "pygments_lexer": "python3"
  }
 },
 "nbformat": 4,
 "nbformat_minor": 4
}
