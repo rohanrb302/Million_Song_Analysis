{
  "nbformat": 4,
  "nbformat_minor": 0,
  "metadata": {
    "colab": {
      "name": "Important_feats",
      "provenance": [],
      "collapsed_sections": []
    },
    "kernelspec": {
      "name": "python3",
      "display_name": "Python 3"
    }
  },
  "cells": [
    {
      "cell_type": "markdown",
      "metadata": {
        "id": "VJAC5KInJO8X"
      },
      "source": [
        "Import data"
      ]
    },
    {
      "cell_type": "code",
      "metadata": {
        "id": "dG-jbHon8Ize",
        "colab": {
          "base_uri": "https://localhost:8080/"
        },
        "outputId": "ca1fecb7-a19b-42d8-adfc-252c7d8f913c"
      },
      "source": [
        "# Mount drive\n",
        "\n",
        "from google.colab import drive\n",
        "drive.mount('/content/drive')"
      ],
      "execution_count": 1,
      "outputs": [
        {
          "output_type": "stream",
          "text": [
            "Mounted at /content/drive\n"
          ],
          "name": "stdout"
        }
      ]
    },
    {
      "cell_type": "code",
      "metadata": {
        "colab": {
          "base_uri": "https://localhost:8080/"
        },
        "id": "nSiyiPAW8Xg-",
        "outputId": "ac4d3cb0-8e66-4ba7-92dd-b9d25b19d7ea"
      },
      "source": [
        "cd drive/MyDrive/MLLD_MPA/data/"
      ],
      "execution_count": 1,
      "outputs": [
        {
          "output_type": "stream",
          "text": [
            "/content/drive/MyDrive/MLLD_MPA/data\n"
          ],
          "name": "stdout"
        }
      ]
    },
    {
      "cell_type": "code",
      "metadata": {
        "colab": {
          "base_uri": "https://localhost:8080/"
        },
        "id": "UbqS8TGU81Ob",
        "outputId": "cb228a7b-cb27-4ad8-df3e-355dd6927568"
      },
      "source": [
        "!unzip song_small.zip"
      ],
      "execution_count": 5,
      "outputs": [
        {
          "output_type": "stream",
          "text": [
            "Archive:  song_small.zip\n",
            "replace song_small.csv? [y]es, [n]o, [A]ll, [N]one, [r]ename: n\n"
          ],
          "name": "stdout"
        }
      ]
    },
    {
      "cell_type": "markdown",
      "metadata": {
        "id": "GmQw6n0fJWYJ"
      },
      "source": [
        "Import necessary libraries"
      ]
    },
    {
      "cell_type": "code",
      "metadata": {
        "id": "7MUy18vC9EzK"
      },
      "source": [
        "import os\n",
        "import sys\n",
        "import pandas as pd\n",
        "import numpy as np\n",
        "import seaborn as sns\n",
        "import matplotlib\n",
        "from sklearn import metrics\n",
        "from sklearn.metrics import accuracy_score\n",
        "from sklearn.model_selection import cross_val_score, GridSearchCV\n",
        "import matplotlib.pyplot as plt\n",
        "import xgboost as xgb\n",
        "from xgboost.sklearn import XGBRegressor\n",
        "from sklearn.model_selection import KFold\n",
        "from sklearn.model_selection import cross_val_score, GridSearchCV\n",
        "from sklearn.ensemble import RandomForestClassifier\n",
        "import copy\n",
        "from sklearn.model_selection import train_test_split\n",
        "from sklearn import svm\n",
        "from sklearn.metrics import r2_score, roc_auc_score"
      ],
      "execution_count": 7,
      "outputs": []
    },
    {
      "cell_type": "markdown",
      "metadata": {
        "id": "EQQYBZqYJe6v"
      },
      "source": [
        "**Read and preprocess data**"
      ]
    },
    {
      "cell_type": "code",
      "metadata": {
        "id": "oUvMkgz29AvI"
      },
      "source": [
        "df = pd.read_csv('song_small.csv')"
      ],
      "execution_count": 68,
      "outputs": []
    },
    {
      "cell_type": "code",
      "metadata": {
        "colab": {
          "base_uri": "https://localhost:8080/",
          "height": 272
        },
        "id": "H2ZUNLwKFleO",
        "outputId": "9a29704d-7cd8-4ebd-e490-4a39d28ca86d"
      },
      "source": [
        "numeric_columns=['artist_familiarity',\n",
        " 'artist_hotttnesss',\n",
        " 'duration',\n",
        " 'end_of_fade_in',\n",
        " 'energy',\n",
        " 'mode',\n",
        " 'key',\n",
        " 'key_confidence',\n",
        " 'loudness',\n",
        " 'song_hotttnesss',\n",
        " 'tempo',\n",
        " 'time_signature',\n",
        " 'time_signature_confidence',\n",
        " 'year']\n",
        "\n",
        "df1 = df[numeric_columns]\n",
        "\n",
        "df1.astype('float')\n",
        "display(df1.dtypes)"
      ],
      "execution_count": 69,
      "outputs": [
        {
          "output_type": "display_data",
          "data": {
            "text/plain": [
              "artist_familiarity           float64\n",
              "artist_hotttnesss            float64\n",
              "duration                     float64\n",
              "end_of_fade_in               float64\n",
              "energy                       float64\n",
              "mode                         float64\n",
              "key                          float64\n",
              "key_confidence               float64\n",
              "loudness                     float64\n",
              "song_hotttnesss              float64\n",
              "tempo                        float64\n",
              "time_signature                 int64\n",
              "time_signature_confidence    float64\n",
              "year                           int64\n",
              "dtype: object"
            ]
          },
          "metadata": {
            "tags": []
          }
        }
      ]
    },
    {
      "cell_type": "markdown",
      "metadata": {
        "id": "p13aRW7MKWMh"
      },
      "source": [
        "**MODEL 1**"
      ]
    },
    {
      "cell_type": "markdown",
      "metadata": {
        "id": "KNcciNUEJ9_S"
      },
      "source": [
        "Split data for train and test"
      ]
    },
    {
      "cell_type": "code",
      "metadata": {
        "id": "76ig8x9I-8Y1"
      },
      "source": [
        "train = df1.dropna(axis=0, how='any')\n",
        "train2 = train.copy()\n",
        "\n",
        "Y = copy.deepcopy(train.song_hotttnesss)\n",
        "\n",
        "train = train.drop(\"song_hotttnesss\", axis=1)\n",
        "X_train, X_test, y_train, y_test = train_test_split(train, Y, test_size=0.33, random_state=7)"
      ],
      "execution_count": 71,
      "outputs": []
    },
    {
      "cell_type": "markdown",
      "metadata": {
        "id": "VewiMn_5KGd9"
      },
      "source": [
        "Train/ test"
      ]
    },
    {
      "cell_type": "code",
      "metadata": {
        "colab": {
          "base_uri": "https://localhost:8080/"
        },
        "id": "eXAihKdZ9k_N",
        "outputId": "b177e6fd-f2c2-41f2-c492-467af28256bd"
      },
      "source": [
        "model = XGBRegressor()\n",
        "model.fit(X_train, y_train)"
      ],
      "execution_count": 72,
      "outputs": [
        {
          "output_type": "stream",
          "text": [
            "[20:54:28] WARNING: /workspace/src/objective/regression_obj.cu:152: reg:linear is now deprecated in favor of reg:squarederror.\n"
          ],
          "name": "stdout"
        },
        {
          "output_type": "execute_result",
          "data": {
            "text/plain": [
              "XGBRegressor(base_score=0.5, booster='gbtree', colsample_bylevel=1,\n",
              "             colsample_bynode=1, colsample_bytree=1, gamma=0,\n",
              "             importance_type='gain', learning_rate=0.1, max_delta_step=0,\n",
              "             max_depth=3, min_child_weight=1, missing=None, n_estimators=100,\n",
              "             n_jobs=1, nthread=None, objective='reg:linear', random_state=0,\n",
              "             reg_alpha=0, reg_lambda=1, scale_pos_weight=1, seed=None,\n",
              "             silent=None, subsample=1, verbosity=1)"
            ]
          },
          "metadata": {
            "tags": []
          },
          "execution_count": 72
        }
      ]
    },
    {
      "cell_type": "code",
      "metadata": {
        "colab": {
          "base_uri": "https://localhost:8080/"
        },
        "id": "S-GxxaIFAIFz",
        "outputId": "3c8c5194-eb3e-48e6-c7d3-561ef8a837e7"
      },
      "source": [
        "# # make predictions for test data\n",
        "y_pred = model.predict(X_test)\n",
        "accuracy = model.score(X_test, y_test)\n",
        "print(\"Accuracy: %.2f%%\" % (accuracy * 100.0))"
      ],
      "execution_count": 73,
      "outputs": [
        {
          "output_type": "stream",
          "text": [
            "Accuracy: 99.99%\n"
          ],
          "name": "stdout"
        }
      ]
    },
    {
      "cell_type": "markdown",
      "metadata": {
        "id": "WOQjIa5MKKKt"
      },
      "source": [
        "Best features using XGD"
      ]
    },
    {
      "cell_type": "code",
      "metadata": {
        "colab": {
          "base_uri": "https://localhost:8080/",
          "height": 406
        },
        "id": "af-XR8fFHYFm",
        "outputId": "447f68bc-bd9b-45ea-c12a-6e5f31051b49"
      },
      "source": [
        "feat_imp = pd.Series(model.get_booster().get_fscore()).sort_values(ascending=False)\n",
        "feat_imp.plot(kind='bar', title='Feature Importances')\n",
        "plt.ylabel('Feature Importance Score')\n",
        "plt.savefig('Important_features_feats')\n",
        "plt.show()\n",
        "\n"
      ],
      "execution_count": 81,
      "outputs": [
        {
          "output_type": "display_data",
          "data": {
            "image/png": "[encoded data removed]",
            "text/plain": [
              "<Figure size 432x288 with 1 Axes>"
            ]
          },
          "metadata": {
            "tags": [],
            "needs_background": "light"
          }
        }
      ]
    },
    {
      "cell_type": "markdown",
      "metadata": {
        "id": "icZ8acjTKatx"
      },
      "source": [
        "**MODEL 2**"
      ]
    },
    {
      "cell_type": "code",
      "metadata": {
        "id": "EFMP3WxgHis-"
      },
      "source": [
        "target = copy.deepcopy(train2.song_hotttnesss)\n",
        "\n",
        "input = train2.drop(\"song_hotttnesss\", axis = 1)\n",
        "X = input.drop(\"artist_hotttnesss\", axis = 1)\n"
      ],
      "execution_count": 77,
      "outputs": []
    },
    {
      "cell_type": "code",
      "metadata": {
        "id": "HvRHwAiGKqvS"
      },
      "source": [
        "X_train2, X_test2, y_train2, y_test2 = train_test_split(X, target, test_size=0.33, random_state=7)"
      ],
      "execution_count": 78,
      "outputs": []
    },
    {
      "cell_type": "code",
      "metadata": {
        "colab": {
          "base_uri": "https://localhost:8080/"
        },
        "id": "4YNhn86kMo9O",
        "outputId": "1598ec73-f5c5-44a8-b664-06c71c99611a"
      },
      "source": [
        "model2 = XGBRegressor()\n",
        "model2.fit(X_train2, y_train2)\n",
        "\n",
        "# # make predictions for test data\n",
        "y_pred2 = model2.predict(X_test2)\n",
        "accuracy2 = model2.score(X_test2, y_test2)\n",
        "print(\"Accuracy: %.2f%%\" % (accuracy2 * 100.0))"
      ],
      "execution_count": 79,
      "outputs": [
        {
          "output_type": "stream",
          "text": [
            "[20:59:33] WARNING: /workspace/src/objective/regression_obj.cu:152: reg:linear is now deprecated in favor of reg:squarederror.\n",
            "Accuracy: 68.83%\n"
          ],
          "name": "stdout"
        }
      ]
    },
    {
      "cell_type": "code",
      "metadata": {
        "colab": {
          "base_uri": "https://localhost:8080/",
          "height": 406
        },
        "id": "pD8hzTDQNEnU",
        "outputId": "88fe2f17-30ce-49cd-a3f2-8d5aa16a042a"
      },
      "source": [
        "feat_imp2 = pd.Series(model2.get_booster().get_fscore()).sort_values(ascending=False)\n",
        "feat_imp2.plot(kind='bar', title='Feature Importances')\n",
        "plt.ylabel('Feature Importance Score')\n",
        "plt.savefig('Important_feats_excluding_arthot')\n",
        "plt.show()"
      ],
      "execution_count": 82,
      "outputs": [
        {
          "output_type": "display_data",
          "data": {
            "image/png": "[encoded data removed]",
            "text/plain": [
              "<Figure size 432x288 with 1 Axes>"
            ]
          },
          "metadata": {
            "tags": [],
            "needs_background": "light"
          }
        }
      ]
    },
    {
      "cell_type": "code",
      "metadata": {
        "id": "qs-BWG7iNNna"
      },
      "source": [
        ""
      ],
      "execution_count": null,
      "outputs": []
    }
  ]
}