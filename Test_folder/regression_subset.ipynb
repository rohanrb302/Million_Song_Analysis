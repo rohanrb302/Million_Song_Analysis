{
 "cells": [
  {
   "cell_type": "code",
   "execution_count": 0,
   "metadata": {
    "application/vnd.databricks.v1+cell": {
     "inputWidgets": {},
     "nuid": "5ed5998c-b97e-4c07-b6bd-6ca23563c552",
     "showTitle": false,
     "title": ""
    }
   },
   "outputs": [
    {
     "data": {
      "text/html": [
       "<style scoped>\n",
       "  .ansiout {\n",
       "    display: block;\n",
       "    unicode-bidi: embed;\n",
       "    white-space: pre-wrap;\n",
       "    word-wrap: break-word;\n",
       "    word-break: break-all;\n",
       "    font-family: \"Source Code Pro\", \"Menlo\", monospace;;\n",
       "    font-size: 13px;\n",
       "    color: #555;\n",
       "    margin-left: 4px;\n",
       "    line-height: 19px;\n",
       "  }\n",
       "</style>\n",
       "<div class=\"ansiout\"></div>"
      ]
     },
     "metadata": {
      "application/vnd.databricks.v1+output": {
       "addedWidgets": {},
       "arguments": {},
       "data": "<div class=\"ansiout\"></div>",
       "datasetInfos": [],
       "removedWidgets": [],
       "type": "html"
      }
     },
     "output_type": "display_data"
    }
   ],
   "source": [
    "# Import required packages/libraries:\n",
    "import os\n",
    "import sys\n",
    "import pyspark.ml\n",
    "from pyspark.ml.feature import VectorAssembler\n",
    "from pyspark.ml import Pipeline\n",
    "from pyspark.sql.types import DoubleType\n",
    "from pyspark.sql.functions import isnan, when, count, col\n",
    "\n",
    "# Dependencies for Regression Algorithms:\n",
    "from pyspark.ml.feature import VectorAssembler\n",
    "from pyspark.ml.regression import LinearRegression\n",
    "from pyspark.ml import Pipeline\n",
    "from pyspark.ml.evaluation import RegressionEvaluator\n",
    "from pyspark.ml.tuning import CrossValidator, ParamGridBuilder\n",
    "from pyspark.ml.evaluation import RegressionEvaluator\n",
    "from pyspark.ml.regression import GBTRegressor\n",
    "from pyspark.ml.regression import IsotonicRegression"
   ]
  },
  {
   "cell_type": "code",
   "execution_count": 0,
   "metadata": {
    "application/vnd.databricks.v1+cell": {
     "inputWidgets": {},
     "nuid": "e70df478-7b28-4980-97e8-f930819eb458",
     "showTitle": false,
     "title": ""
    }
   },
   "outputs": [
    {
     "data": {
      "text/html": [
       "<style scoped>\n",
       "  .ansiout {\n",
       "    display: block;\n",
       "    unicode-bidi: embed;\n",
       "    white-space: pre-wrap;\n",
       "    word-wrap: break-word;\n",
       "    word-break: break-all;\n",
       "    font-family: \"Source Code Pro\", \"Menlo\", monospace;;\n",
       "    font-size: 13px;\n",
       "    color: #555;\n",
       "    margin-left: 4px;\n",
       "    line-height: 19px;\n",
       "  }\n",
       "</style>\n",
       "<div class=\"ansiout\"></div>"
      ]
     },
     "metadata": {
      "application/vnd.databricks.v1+output": {
       "addedWidgets": {},
       "arguments": {},
       "data": "<div class=\"ansiout\"></div>",
       "datasetInfos": [],
       "removedWidgets": [],
       "type": "html"
      }
     },
     "output_type": "display_data"
    }
   ],
   "source": [
    "# Define sql context:\n",
    "from pyspark.sql import SQLContext\n",
    "sqlContext = SQLContext(sc)"
   ]
  },
  {
   "cell_type": "code",
   "execution_count": 0,
   "metadata": {
    "application/vnd.databricks.v1+cell": {
     "inputWidgets": {},
     "nuid": "b5560930-2654-41f8-ae0f-556324fd1f12",
     "showTitle": false,
     "title": ""
    }
   },
   "outputs": [
    {
     "data": {
      "text/html": [
       "<style scoped>\n",
       "  .ansiout {\n",
       "    display: block;\n",
       "    unicode-bidi: embed;\n",
       "    white-space: pre-wrap;\n",
       "    word-wrap: break-word;\n",
       "    word-break: break-all;\n",
       "    font-family: \"Source Code Pro\", \"Menlo\", monospace;;\n",
       "    font-size: 13px;\n",
       "    color: #555;\n",
       "    margin-left: 4px;\n",
       "    line-height: 19px;\n",
       "  }\n",
       "</style>\n",
       "<div class=\"ansiout\">Out[4]: DataFrame[artist_familiarity: double, artist_hotttnesss: double, artist_id: string, artist_location: string, artist_mbtags: string, artist_mbtags_count: string, artist_name: string, artist_terms: string, artist_terms_freq: string, artist_terms_weight: string, danceability: string, duration: string, end_of_fade_in: string, energy: string, key: string, key_confidence: string, loudness: string, mode: string, mode_confidence: string, release: string, segments_confidence: string, segments_loudness_max: string, segments_loudness_max_time: string, segments_pitches: string, segments_timbre: string, similar_artists: string, song_hotttnesss: string, song_id: string, start_of_fade_out: string, tempo: string, time_signature: string, time_signature_confidence: string, title: string, track_id: string, year: string]</div>"
      ]
     },
     "metadata": {
      "application/vnd.databricks.v1+output": {
       "addedWidgets": {},
       "arguments": {},
       "data": "<div class=\"ansiout\">Out[4]: DataFrame[artist_familiarity: double, artist_hotttnesss: double, artist_id: string, artist_location: string, artist_mbtags: string, artist_mbtags_count: string, artist_name: string, artist_terms: string, artist_terms_freq: string, artist_terms_weight: string, danceability: string, duration: string, end_of_fade_in: string, energy: string, key: string, key_confidence: string, loudness: string, mode: string, mode_confidence: string, release: string, segments_confidence: string, segments_loudness_max: string, segments_loudness_max_time: string, segments_pitches: string, segments_timbre: string, similar_artists: string, song_hotttnesss: string, song_id: string, start_of_fade_out: string, tempo: string, time_signature: string, time_signature_confidence: string, title: string, track_id: string, year: string]</div>",
       "datasetInfos": [
        {
         "name": "df",
         "schema": {
          "fields": [
           {
            "metadata": {},
            "name": "artist_familiarity",
            "nullable": true,
            "type": "double"
           },
           {
            "metadata": {},
            "name": "artist_hotttnesss",
            "nullable": true,
            "type": "double"
           },
           {
            "metadata": {},
            "name": "artist_id",
            "nullable": true,
            "type": "string"
           },
           {
            "metadata": {},
            "name": "artist_location",
            "nullable": true,
            "type": "string"
           },
           {
            "metadata": {},
            "name": "artist_mbtags",
            "nullable": true,
            "type": "string"
           },
           {
            "metadata": {},
            "name": "artist_mbtags_count",
            "nullable": true,
            "type": "string"
           },
           {
            "metadata": {},
            "name": "artist_name",
            "nullable": true,
            "type": "string"
           },
           {
            "metadata": {},
            "name": "artist_terms",
            "nullable": true,
            "type": "string"
           },
           {
            "metadata": {},
            "name": "artist_terms_freq",
            "nullable": true,
            "type": "string"
           },
           {
            "metadata": {},
            "name": "artist_terms_weight",
            "nullable": true,
            "type": "string"
           },
           {
            "metadata": {},
            "name": "danceability",
            "nullable": true,
            "type": "string"
           },
           {
            "metadata": {},
            "name": "duration",
            "nullable": true,
            "type": "string"
           },
           {
            "metadata": {},
            "name": "end_of_fade_in",
            "nullable": true,
            "type": "string"
           },
           {
            "metadata": {},
            "name": "energy",
            "nullable": true,
            "type": "string"
           },
           {
            "metadata": {},
            "name": "key",
            "nullable": true,
            "type": "string"
           },
           {
            "metadata": {},
            "name": "key_confidence",
            "nullable": true,
            "type": "string"
           },
           {
            "metadata": {},
            "name": "loudness",
            "nullable": true,
            "type": "string"
           },
           {
            "metadata": {},
            "name": "mode",
            "nullable": true,
            "type": "string"
           },
           {
            "metadata": {},
            "name": "mode_confidence",
            "nullable": true,
            "type": "string"
           },
           {
            "metadata": {},
            "name": "release",
            "nullable": true,
            "type": "string"
           },
           {
            "metadata": {},
            "name": "segments_confidence",
            "nullable": true,
            "type": "string"
           },
           {
            "metadata": {},
            "name": "segments_loudness_max",
            "nullable": true,
            "type": "string"
           },
           {
            "metadata": {},
            "name": "segments_loudness_max_time",
            "nullable": true,
            "type": "string"
           },
           {
            "metadata": {},
            "name": "segments_pitches",
            "nullable": true,
            "type": "string"
           },
           {
            "metadata": {},
            "name": "segments_timbre",
            "nullable": true,
            "type": "string"
           },
           {
            "metadata": {},
            "name": "similar_artists",
            "nullable": true,
            "type": "string"
           },
           {
            "metadata": {},
            "name": "song_hotttnesss",
            "nullable": true,
            "type": "string"
           },
           {
            "metadata": {},
            "name": "song_id",
            "nullable": true,
            "type": "string"
           },
           {
            "metadata": {},
            "name": "start_of_fade_out",
            "nullable": true,
            "type": "string"
           },
           {
            "metadata": {},
            "name": "tempo",
            "nullable": true,
            "type": "string"
           },
           {
            "metadata": {},
            "name": "time_signature",
            "nullable": true,
            "type": "string"
           },
           {
            "metadata": {},
            "name": "time_signature_confidence",
            "nullable": true,
            "type": "string"
           },
           {
            "metadata": {},
            "name": "title",
            "nullable": true,
            "type": "string"
           },
           {
            "metadata": {},
            "name": "track_id",
            "nullable": true,
            "type": "string"
           },
           {
            "metadata": {},
            "name": "year",
            "nullable": true,
            "type": "string"
           }
          ],
          "type": "struct"
         },
         "tableIdentifier": null,
         "typeStr": "pyspark.sql.dataframe.DataFrame"
        }
       ],
       "removedWidgets": [],
       "type": "html"
      }
     },
     "output_type": "display_data"
    }
   ],
   "source": [
    "# Read the csv file(stored in DBFS) as a Spark dataframe:\n",
    "df = spark.read.format(\"csv\").option(\"inferSchema\", \"true\").option(\"header\",\"true\").load(\"dbfs:/tmp/song_small.csv\")\n",
    "\n",
    "# Cache the dataframe across all workers:\n",
    "df.cache()"
   ]
  },
  {
   "cell_type": "code",
   "execution_count": 0,
   "metadata": {
    "application/vnd.databricks.v1+cell": {
     "inputWidgets": {},
     "nuid": "e4202a32-fdb8-4453-858b-e7289363a4f4",
     "showTitle": false,
     "title": ""
    }
   },
   "outputs": [
    {
     "data": {
      "text/html": [
       "<style scoped>\n",
       "  .ansiout {\n",
       "    display: block;\n",
       "    unicode-bidi: embed;\n",
       "    white-space: pre-wrap;\n",
       "    word-wrap: break-word;\n",
       "    word-break: break-all;\n",
       "    font-family: \"Source Code Pro\", \"Menlo\", monospace;;\n",
       "    font-size: 13px;\n",
       "    color: #555;\n",
       "    margin-left: 4px;\n",
       "    line-height: 19px;\n",
       "  }\n",
       "</style>\n",
       "<div class=\"ansiout\"></div>"
      ]
     },
     "metadata": {
      "application/vnd.databricks.v1+output": {
       "addedWidgets": {},
       "arguments": {},
       "data": "<div class=\"ansiout\"></div>",
       "datasetInfos": [
        {
         "name": "df",
         "schema": {
          "fields": [
           {
            "metadata": {},
            "name": "artist_familiarity",
            "nullable": true,
            "type": "double"
           },
           {
            "metadata": {},
            "name": "artist_hotttnesss",
            "nullable": true,
            "type": "double"
           },
           {
            "metadata": {},
            "name": "artist_id",
            "nullable": true,
            "type": "string"
           },
           {
            "metadata": {},
            "name": "artist_location",
            "nullable": true,
            "type": "string"
           },
           {
            "metadata": {},
            "name": "artist_mbtags",
            "nullable": true,
            "type": "string"
           },
           {
            "metadata": {},
            "name": "artist_mbtags_count",
            "nullable": true,
            "type": "string"
           },
           {
            "metadata": {},
            "name": "artist_name",
            "nullable": true,
            "type": "string"
           },
           {
            "metadata": {},
            "name": "artist_terms",
            "nullable": true,
            "type": "string"
           },
           {
            "metadata": {},
            "name": "artist_terms_freq",
            "nullable": true,
            "type": "string"
           },
           {
            "metadata": {},
            "name": "artist_terms_weight",
            "nullable": true,
            "type": "string"
           },
           {
            "metadata": {},
            "name": "danceability",
            "nullable": true,
            "type": "string"
           },
           {
            "metadata": {},
            "name": "duration",
            "nullable": true,
            "type": "string"
           },
           {
            "metadata": {},
            "name": "end_of_fade_in",
            "nullable": true,
            "type": "string"
           },
           {
            "metadata": {},
            "name": "energy",
            "nullable": true,
            "type": "string"
           },
           {
            "metadata": {},
            "name": "key",
            "nullable": true,
            "type": "string"
           },
           {
            "metadata": {},
            "name": "key_confidence",
            "nullable": true,
            "type": "string"
           },
           {
            "metadata": {},
            "name": "loudness",
            "nullable": true,
            "type": "string"
           },
           {
            "metadata": {},
            "name": "mode",
            "nullable": true,
            "type": "string"
           },
           {
            "metadata": {},
            "name": "mode_confidence",
            "nullable": true,
            "type": "string"
           },
           {
            "metadata": {},
            "name": "release",
            "nullable": true,
            "type": "string"
           },
           {
            "metadata": {},
            "name": "segments_confidence",
            "nullable": true,
            "type": "string"
           },
           {
            "metadata": {},
            "name": "segments_loudness_max",
            "nullable": true,
            "type": "string"
           },
           {
            "metadata": {},
            "name": "segments_loudness_max_time",
            "nullable": true,
            "type": "string"
           },
           {
            "metadata": {},
            "name": "segments_pitches",
            "nullable": true,
            "type": "string"
           },
           {
            "metadata": {},
            "name": "segments_timbre",
            "nullable": true,
            "type": "string"
           },
           {
            "metadata": {},
            "name": "similar_artists",
            "nullable": true,
            "type": "string"
           },
           {
            "metadata": {},
            "name": "song_hotttnesss",
            "nullable": true,
            "type": "string"
           },
           {
            "metadata": {},
            "name": "song_id",
            "nullable": true,
            "type": "string"
           },
           {
            "metadata": {},
            "name": "start_of_fade_out",
            "nullable": true,
            "type": "string"
           },
           {
            "metadata": {},
            "name": "tempo",
            "nullable": true,
            "type": "string"
           },
           {
            "metadata": {},
            "name": "time_signature",
            "nullable": true,
            "type": "string"
           },
           {
            "metadata": {},
            "name": "time_signature_confidence",
            "nullable": true,
            "type": "string"
           },
           {
            "metadata": {},
            "name": "title",
            "nullable": true,
            "type": "string"
           },
           {
            "metadata": {},
            "name": "track_id",
            "nullable": true,
            "type": "string"
           },
           {
            "metadata": {},
            "name": "year",
            "nullable": true,
            "type": "string"
           }
          ],
          "type": "struct"
         },
         "tableIdentifier": null,
         "typeStr": "pyspark.sql.dataframe.DataFrame"
        }
       ],
       "removedWidgets": [],
       "type": "html"
      }
     },
     "output_type": "display_data"
    }
   ],
   "source": [
    "# Usue Regex to filter numeric entries in target column i.e. 'song_hotttnesss':\n",
    "expr = \"(^[+-]?([0-9]*[.])?[0-9]+)\"\n",
    "df = (df.filter(df.song_hotttnesss.rlike(expr)))"
   ]
  },
  {
   "cell_type": "code",
   "execution_count": 0,
   "metadata": {
    "application/vnd.databricks.v1+cell": {
     "inputWidgets": {},
     "nuid": "6792f729-43f3-41b6-964d-a99af860dde0",
     "showTitle": false,
     "title": ""
    }
   },
   "outputs": [
    {
     "data": {
      "text/html": [
       "<style scoped>\n",
       "  .table-result-container {\n",
       "    max-height: 300px;\n",
       "    overflow: auto;\n",
       "  }\n",
       "  table, th, td {\n",
       "    border: 1px solid black;\n",
       "    border-collapse: collapse;\n",
       "  }\n",
       "  th, td {\n",
       "    padding: 5px;\n",
       "  }\n",
       "  th {\n",
       "    text-align: left;\n",
       "  }\n",
       "</style><div class='table-result-container'><table class='table-result'><thead style='background-color: white'><tr><th>_1</th><th>_2</th></tr></thead><tbody><tr><td>artist_familiarity</td><td>double</td></tr><tr><td>artist_hotttnesss</td><td>double</td></tr><tr><td>artist_id</td><td>string</td></tr><tr><td>artist_location</td><td>string</td></tr><tr><td>artist_mbtags</td><td>string</td></tr><tr><td>artist_mbtags_count</td><td>string</td></tr><tr><td>artist_name</td><td>string</td></tr><tr><td>artist_terms</td><td>string</td></tr><tr><td>artist_terms_freq</td><td>string</td></tr><tr><td>artist_terms_weight</td><td>string</td></tr><tr><td>danceability</td><td>string</td></tr><tr><td>duration</td><td>string</td></tr><tr><td>end_of_fade_in</td><td>string</td></tr><tr><td>energy</td><td>string</td></tr><tr><td>key</td><td>string</td></tr><tr><td>key_confidence</td><td>string</td></tr><tr><td>loudness</td><td>string</td></tr><tr><td>mode</td><td>string</td></tr><tr><td>mode_confidence</td><td>string</td></tr><tr><td>release</td><td>string</td></tr><tr><td>segments_confidence</td><td>string</td></tr><tr><td>segments_loudness_max</td><td>string</td></tr><tr><td>segments_loudness_max_time</td><td>string</td></tr><tr><td>segments_pitches</td><td>string</td></tr><tr><td>segments_timbre</td><td>string</td></tr><tr><td>similar_artists</td><td>string</td></tr><tr><td>song_hotttnesss</td><td>string</td></tr><tr><td>song_id</td><td>string</td></tr><tr><td>start_of_fade_out</td><td>string</td></tr><tr><td>tempo</td><td>string</td></tr><tr><td>time_signature</td><td>string</td></tr><tr><td>time_signature_confidence</td><td>string</td></tr><tr><td>title</td><td>string</td></tr><tr><td>track_id</td><td>string</td></tr><tr><td>year</td><td>string</td></tr></tbody></table></div>"
      ]
     },
     "metadata": {
      "application/vnd.databricks.v1+output": {
       "addedWidgets": {},
       "aggData": [],
       "aggError": "",
       "aggOverflow": false,
       "aggSchema": [],
       "aggSeriesLimitReached": false,
       "aggType": "",
       "arguments": {},
       "columnCustomDisplayInfos": {},
       "data": [
        [
         "artist_familiarity",
         "double"
        ],
        [
         "artist_hotttnesss",
         "double"
        ],
        [
         "artist_id",
         "string"
        ],
        [
         "artist_location",
         "string"
        ],
        [
         "artist_mbtags",
         "string"
        ],
        [
         "artist_mbtags_count",
         "string"
        ],
        [
         "artist_name",
         "string"
        ],
        [
         "artist_terms",
         "string"
        ],
        [
         "artist_terms_freq",
         "string"
        ],
        [
         "artist_terms_weight",
         "string"
        ],
        [
         "danceability",
         "string"
        ],
        [
         "duration",
         "string"
        ],
        [
         "end_of_fade_in",
         "string"
        ],
        [
         "energy",
         "string"
        ],
        [
         "key",
         "string"
        ],
        [
         "key_confidence",
         "string"
        ],
        [
         "loudness",
         "string"
        ],
        [
         "mode",
         "string"
        ],
        [
         "mode_confidence",
         "string"
        ],
        [
         "release",
         "string"
        ],
        [
         "segments_confidence",
         "string"
        ],
        [
         "segments_loudness_max",
         "string"
        ],
        [
         "segments_loudness_max_time",
         "string"
        ],
        [
         "segments_pitches",
         "string"
        ],
        [
         "segments_timbre",
         "string"
        ],
        [
         "similar_artists",
         "string"
        ],
        [
         "song_hotttnesss",
         "string"
        ],
        [
         "song_id",
         "string"
        ],
        [
         "start_of_fade_out",
         "string"
        ],
        [
         "tempo",
         "string"
        ],
        [
         "time_signature",
         "string"
        ],
        [
         "time_signature_confidence",
         "string"
        ],
        [
         "title",
         "string"
        ],
        [
         "track_id",
         "string"
        ],
        [
         "year",
         "string"
        ]
       ],
       "datasetInfos": [],
       "dbfsResultPath": null,
       "isJsonSchema": true,
       "overflow": false,
       "plotOptions": {
        "customPlotOptions": {},
        "displayType": "table",
        "pivotAggregation": null,
        "pivotColumns": [],
        "xColumns": [],
        "yColumns": []
       },
       "removedWidgets": [],
       "schema": [
        {
         "metadata": "{}",
         "name": "_1",
         "type": "\"string\""
        },
        {
         "metadata": "{}",
         "name": "_2",
         "type": "\"string\""
        }
       ],
       "type": "table"
      }
     },
     "output_type": "display_data"
    }
   ],
   "source": [
    "# Check datatypes of each column:\n",
    "display(df.dtypes)"
   ]
  },
  {
   "cell_type": "code",
   "execution_count": 0,
   "metadata": {
    "application/vnd.databricks.v1+cell": {
     "inputWidgets": {},
     "nuid": "015cec1a-0ecf-431b-bdbb-9da6d930cdf5",
     "showTitle": false,
     "title": ""
    }
   },
   "outputs": [
    {
     "data": {
      "text/html": [
       "<style scoped>\n",
       "  .ansiout {\n",
       "    display: block;\n",
       "    unicode-bidi: embed;\n",
       "    white-space: pre-wrap;\n",
       "    word-wrap: break-word;\n",
       "    word-break: break-all;\n",
       "    font-family: \"Source Code Pro\", \"Menlo\", monospace;;\n",
       "    font-size: 13px;\n",
       "    color: #555;\n",
       "    margin-left: 4px;\n",
       "    line-height: 19px;\n",
       "  }\n",
       "</style>\n",
       "<div class=\"ansiout\"></div>"
      ]
     },
     "metadata": {
      "application/vnd.databricks.v1+output": {
       "addedWidgets": {},
       "arguments": {},
       "data": "<div class=\"ansiout\"></div>",
       "datasetInfos": [
        {
         "name": "df",
         "schema": {
          "fields": [
           {
            "metadata": {},
            "name": "artist_familiarity",
            "nullable": true,
            "type": "double"
           },
           {
            "metadata": {},
            "name": "artist_hotttnesss",
            "nullable": true,
            "type": "double"
           },
           {
            "metadata": {},
            "name": "artist_id",
            "nullable": true,
            "type": "string"
           },
           {
            "metadata": {},
            "name": "artist_location",
            "nullable": true,
            "type": "string"
           },
           {
            "metadata": {},
            "name": "artist_mbtags",
            "nullable": true,
            "type": "string"
           },
           {
            "metadata": {},
            "name": "artist_mbtags_count",
            "nullable": true,
            "type": "string"
           },
           {
            "metadata": {},
            "name": "artist_name",
            "nullable": true,
            "type": "string"
           },
           {
            "metadata": {},
            "name": "artist_terms",
            "nullable": true,
            "type": "string"
           },
           {
            "metadata": {},
            "name": "artist_terms_freq",
            "nullable": true,
            "type": "string"
           },
           {
            "metadata": {},
            "name": "artist_terms_weight",
            "nullable": true,
            "type": "string"
           },
           {
            "metadata": {},
            "name": "danceability",
            "nullable": true,
            "type": "string"
           },
           {
            "metadata": {},
            "name": "duration",
            "nullable": true,
            "type": "double"
           },
           {
            "metadata": {},
            "name": "end_of_fade_in",
            "nullable": true,
            "type": "double"
           },
           {
            "metadata": {},
            "name": "energy",
            "nullable": true,
            "type": "double"
           },
           {
            "metadata": {},
            "name": "key",
            "nullable": true,
            "type": "double"
           },
           {
            "metadata": {},
            "name": "key_confidence",
            "nullable": true,
            "type": "double"
           },
           {
            "metadata": {},
            "name": "loudness",
            "nullable": true,
            "type": "double"
           },
           {
            "metadata": {},
            "name": "mode",
            "nullable": true,
            "type": "double"
           },
           {
            "metadata": {},
            "name": "mode_confidence",
            "nullable": true,
            "type": "string"
           },
           {
            "metadata": {},
            "name": "release",
            "nullable": true,
            "type": "string"
           },
           {
            "metadata": {},
            "name": "segments_confidence",
            "nullable": true,
            "type": "string"
           },
           {
            "metadata": {},
            "name": "segments_loudness_max",
            "nullable": true,
            "type": "string"
           },
           {
            "metadata": {},
            "name": "segments_loudness_max_time",
            "nullable": true,
            "type": "string"
           },
           {
            "metadata": {},
            "name": "segments_pitches",
            "nullable": true,
            "type": "string"
           },
           {
            "metadata": {},
            "name": "segments_timbre",
            "nullable": true,
            "type": "string"
           },
           {
            "metadata": {},
            "name": "similar_artists",
            "nullable": true,
            "type": "string"
           },
           {
            "metadata": {},
            "name": "song_hotttnesss",
            "nullable": true,
            "type": "double"
           },
           {
            "metadata": {},
            "name": "song_id",
            "nullable": true,
            "type": "string"
           },
           {
            "metadata": {},
            "name": "start_of_fade_out",
            "nullable": true,
            "type": "string"
           },
           {
            "metadata": {},
            "name": "tempo",
            "nullable": true,
            "type": "double"
           },
           {
            "metadata": {},
            "name": "time_signature",
            "nullable": true,
            "type": "double"
           },
           {
            "metadata": {},
            "name": "time_signature_confidence",
            "nullable": true,
            "type": "double"
           },
           {
            "metadata": {},
            "name": "title",
            "nullable": true,
            "type": "string"
           },
           {
            "metadata": {},
            "name": "track_id",
            "nullable": true,
            "type": "string"
           },
           {
            "metadata": {},
            "name": "year",
            "nullable": true,
            "type": "double"
           }
          ],
          "type": "struct"
         },
         "tableIdentifier": null,
         "typeStr": "pyspark.sql.dataframe.DataFrame"
        }
       ],
       "removedWidgets": [],
       "type": "html"
      }
     },
     "output_type": "display_data"
    }
   ],
   "source": [
    "# Seperate and typecast features having numeric entries:\n",
    "numeric_columns=['artist_familiarity',\n",
    "                 'artist_hotttnesss',\n",
    "                 'duration',\n",
    "                 'end_of_fade_in',\n",
    "                 'energy',\n",
    "                 'mode',\n",
    "                 'key',\n",
    "                 'key_confidence',\n",
    "                 'loudness',\n",
    "                 'song_hotttnesss',\n",
    "                 'tempo',\n",
    "                 'time_signature',\n",
    "                 'time_signature_confidence',\n",
    "                 'year']\n",
    "\n",
    "for c in numeric_columns:\n",
    "  df=df.withColumn(c,df[c].cast(DoubleType()))"
   ]
  },
  {
   "cell_type": "code",
   "execution_count": 0,
   "metadata": {
    "application/vnd.databricks.v1+cell": {
     "inputWidgets": {},
     "nuid": "1f5c37af-ad1a-421c-956d-70db3b8c9540",
     "showTitle": false,
     "title": ""
    }
   },
   "outputs": [
    {
     "data": {
      "text/html": [
       "<style scoped>\n",
       "  .ansiout {\n",
       "    display: block;\n",
       "    unicode-bidi: embed;\n",
       "    white-space: pre-wrap;\n",
       "    word-wrap: break-word;\n",
       "    word-break: break-all;\n",
       "    font-family: \"Source Code Pro\", \"Menlo\", monospace;;\n",
       "    font-size: 13px;\n",
       "    color: #555;\n",
       "    margin-left: 4px;\n",
       "    line-height: 19px;\n",
       "  }\n",
       "</style>\n",
       "<div class=\"ansiout\"></div>"
      ]
     },
     "metadata": {
      "application/vnd.databricks.v1+output": {
       "addedWidgets": {},
       "arguments": {},
       "data": "<div class=\"ansiout\"></div>",
       "datasetInfos": [
        {
         "name": "df",
         "schema": {
          "fields": [
           {
            "metadata": {},
            "name": "artist_familiarity",
            "nullable": true,
            "type": "double"
           },
           {
            "metadata": {},
            "name": "artist_hotttnesss",
            "nullable": true,
            "type": "double"
           },
           {
            "metadata": {},
            "name": "artist_id",
            "nullable": true,
            "type": "string"
           },
           {
            "metadata": {},
            "name": "artist_location",
            "nullable": true,
            "type": "string"
           },
           {
            "metadata": {},
            "name": "artist_mbtags",
            "nullable": true,
            "type": "string"
           },
           {
            "metadata": {},
            "name": "artist_mbtags_count",
            "nullable": true,
            "type": "string"
           },
           {
            "metadata": {},
            "name": "artist_name",
            "nullable": true,
            "type": "string"
           },
           {
            "metadata": {},
            "name": "artist_terms",
            "nullable": true,
            "type": "string"
           },
           {
            "metadata": {},
            "name": "artist_terms_freq",
            "nullable": true,
            "type": "string"
           },
           {
            "metadata": {},
            "name": "artist_terms_weight",
            "nullable": true,
            "type": "string"
           },
           {
            "metadata": {},
            "name": "danceability",
            "nullable": true,
            "type": "string"
           },
           {
            "metadata": {},
            "name": "duration",
            "nullable": true,
            "type": "double"
           },
           {
            "metadata": {},
            "name": "end_of_fade_in",
            "nullable": true,
            "type": "double"
           },
           {
            "metadata": {},
            "name": "energy",
            "nullable": true,
            "type": "double"
           },
           {
            "metadata": {},
            "name": "key",
            "nullable": true,
            "type": "double"
           },
           {
            "metadata": {},
            "name": "key_confidence",
            "nullable": true,
            "type": "double"
           },
           {
            "metadata": {},
            "name": "loudness",
            "nullable": true,
            "type": "double"
           },
           {
            "metadata": {},
            "name": "mode",
            "nullable": true,
            "type": "double"
           },
           {
            "metadata": {},
            "name": "mode_confidence",
            "nullable": true,
            "type": "string"
           },
           {
            "metadata": {},
            "name": "release",
            "nullable": true,
            "type": "string"
           },
           {
            "metadata": {},
            "name": "segments_confidence",
            "nullable": true,
            "type": "string"
           },
           {
            "metadata": {},
            "name": "segments_loudness_max",
            "nullable": true,
            "type": "string"
           },
           {
            "metadata": {},
            "name": "segments_loudness_max_time",
            "nullable": true,
            "type": "string"
           },
           {
            "metadata": {},
            "name": "segments_pitches",
            "nullable": true,
            "type": "string"
           },
           {
            "metadata": {},
            "name": "segments_timbre",
            "nullable": true,
            "type": "string"
           },
           {
            "metadata": {},
            "name": "similar_artists",
            "nullable": true,
            "type": "string"
           },
           {
            "metadata": {},
            "name": "song_hotttnesss",
            "nullable": true,
            "type": "double"
           },
           {
            "metadata": {},
            "name": "song_id",
            "nullable": true,
            "type": "string"
           },
           {
            "metadata": {},
            "name": "start_of_fade_out",
            "nullable": true,
            "type": "string"
           },
           {
            "metadata": {},
            "name": "tempo",
            "nullable": true,
            "type": "double"
           },
           {
            "metadata": {},
            "name": "time_signature",
            "nullable": true,
            "type": "double"
           },
           {
            "metadata": {},
            "name": "time_signature_confidence",
            "nullable": true,
            "type": "double"
           },
           {
            "metadata": {},
            "name": "title",
            "nullable": true,
            "type": "string"
           },
           {
            "metadata": {},
            "name": "track_id",
            "nullable": true,
            "type": "string"
           },
           {
            "metadata": {},
            "name": "year",
            "nullable": true,
            "type": "double"
           }
          ],
          "type": "struct"
         },
         "tableIdentifier": null,
         "typeStr": "pyspark.sql.dataframe.DataFrame"
        }
       ],
       "removedWidgets": [],
       "type": "html"
      }
     },
     "output_type": "display_data"
    }
   ],
   "source": [
    "# Drop rows with null/NA values and duplicates:\n",
    "df = df.na.drop()\n",
    "df=df.drop_duplicates()"
   ]
  },
  {
   "cell_type": "code",
   "execution_count": 0,
   "metadata": {
    "application/vnd.databricks.v1+cell": {
     "inputWidgets": {},
     "nuid": "e134fc11-ce9e-4dbb-9403-a341c88fcda0",
     "showTitle": false,
     "title": ""
    }
   },
   "outputs": [
    {
     "data": {
      "text/html": [
       "<style scoped>\n",
       "  .ansiout {\n",
       "    display: block;\n",
       "    unicode-bidi: embed;\n",
       "    white-space: pre-wrap;\n",
       "    word-wrap: break-word;\n",
       "    word-break: break-all;\n",
       "    font-family: \"Source Code Pro\", \"Menlo\", monospace;;\n",
       "    font-size: 13px;\n",
       "    color: #555;\n",
       "    margin-left: 4px;\n",
       "    line-height: 19px;\n",
       "  }\n",
       "</style>\n",
       "<div class=\"ansiout\"></div>"
      ]
     },
     "metadata": {
      "application/vnd.databricks.v1+output": {
       "addedWidgets": {},
       "arguments": {},
       "data": "<div class=\"ansiout\"></div>",
       "datasetInfos": [
        {
         "name": "select_df",
         "schema": {
          "fields": [
           {
            "metadata": {},
            "name": "artist_familiarity",
            "nullable": true,
            "type": "double"
           },
           {
            "metadata": {},
            "name": "duration",
            "nullable": true,
            "type": "double"
           },
           {
            "metadata": {},
            "name": "loudness",
            "nullable": true,
            "type": "double"
           },
           {
            "metadata": {},
            "name": "key_confidence",
            "nullable": true,
            "type": "double"
           },
           {
            "metadata": {},
            "name": "key",
            "nullable": true,
            "type": "double"
           },
           {
            "metadata": {},
            "name": "end_of_fade_in",
            "nullable": true,
            "type": "double"
           },
           {
            "metadata": {},
            "name": "time_signature_confidence",
            "nullable": true,
            "type": "double"
           },
           {
            "metadata": {},
            "name": "tempo",
            "nullable": true,
            "type": "double"
           },
           {
            "metadata": {},
            "name": "mode",
            "nullable": true,
            "type": "double"
           },
           {
            "metadata": {},
            "name": "song_hotttnesss",
            "nullable": true,
            "type": "double"
           }
          ],
          "type": "struct"
         },
         "tableIdentifier": null,
         "typeStr": "pyspark.sql.dataframe.DataFrame"
        },
        {
         "name": "train_df",
         "schema": {
          "fields": [
           {
            "metadata": {},
            "name": "artist_familiarity",
            "nullable": true,
            "type": "double"
           },
           {
            "metadata": {},
            "name": "duration",
            "nullable": true,
            "type": "double"
           },
           {
            "metadata": {},
            "name": "loudness",
            "nullable": true,
            "type": "double"
           },
           {
            "metadata": {},
            "name": "key_confidence",
            "nullable": true,
            "type": "double"
           },
           {
            "metadata": {},
            "name": "key",
            "nullable": true,
            "type": "double"
           },
           {
            "metadata": {},
            "name": "end_of_fade_in",
            "nullable": true,
            "type": "double"
           },
           {
            "metadata": {},
            "name": "time_signature_confidence",
            "nullable": true,
            "type": "double"
           },
           {
            "metadata": {},
            "name": "tempo",
            "nullable": true,
            "type": "double"
           },
           {
            "metadata": {},
            "name": "mode",
            "nullable": true,
            "type": "double"
           },
           {
            "metadata": {},
            "name": "song_hotttnesss",
            "nullable": true,
            "type": "double"
           }
          ],
          "type": "struct"
         },
         "tableIdentifier": null,
         "typeStr": "pyspark.sql.dataframe.DataFrame"
        },
        {
         "name": "test_df_model",
         "schema": {
          "fields": [
           {
            "metadata": {},
            "name": "artist_familiarity",
            "nullable": true,
            "type": "double"
           },
           {
            "metadata": {},
            "name": "duration",
            "nullable": true,
            "type": "double"
           },
           {
            "metadata": {},
            "name": "loudness",
            "nullable": true,
            "type": "double"
           },
           {
            "metadata": {},
            "name": "key_confidence",
            "nullable": true,
            "type": "double"
           },
           {
            "metadata": {},
            "name": "key",
            "nullable": true,
            "type": "double"
           },
           {
            "metadata": {},
            "name": "end_of_fade_in",
            "nullable": true,
            "type": "double"
           },
           {
            "metadata": {},
            "name": "time_signature_confidence",
            "nullable": true,
            "type": "double"
           },
           {
            "metadata": {},
            "name": "tempo",
            "nullable": true,
            "type": "double"
           },
           {
            "metadata": {},
            "name": "mode",
            "nullable": true,
            "type": "double"
           },
           {
            "metadata": {},
            "name": "song_hotttnesss",
            "nullable": true,
            "type": "double"
           }
          ],
          "type": "struct"
         },
         "tableIdentifier": null,
         "typeStr": "pyspark.sql.dataframe.DataFrame"
        }
       ],
       "removedWidgets": [],
       "type": "html"
      }
     },
     "output_type": "display_data"
    }
   ],
   "source": [
    "# Select columns for the regression model:\n",
    "select_df = df.select([ 'artist_familiarity','duration','loudness','key_confidence','key','end_of_fade_in',\n",
    "                       'time_signature_confidence','tempo','mode','song_hotttnesss'])\n",
    "\n",
    "# Split dataset into train and validation sets:\n",
    "train_df,test_df_model =select_df.randomSplit([0.8, 0.2])"
   ]
  },
  {
   "cell_type": "markdown",
   "metadata": {
    "application/vnd.databricks.v1+cell": {
     "inputWidgets": {},
     "nuid": "0127b689-3e5a-47b2-87ec-69c857f11347",
     "showTitle": false,
     "title": ""
    }
   },
   "source": [
    "##Linear Regression Model"
   ]
  },
  {
   "cell_type": "code",
   "execution_count": 0,
   "metadata": {
    "application/vnd.databricks.v1+cell": {
     "inputWidgets": {},
     "nuid": "b8581c7c-8789-49c6-9ed3-dc965674c27e",
     "showTitle": false,
     "title": ""
    }
   },
   "outputs": [
    {
     "data": {
      "text/html": [
       "<style scoped>\n",
       "  .ansiout {\n",
       "    display: block;\n",
       "    unicode-bidi: embed;\n",
       "    white-space: pre-wrap;\n",
       "    word-wrap: break-word;\n",
       "    word-break: break-all;\n",
       "    font-family: \"Source Code Pro\", \"Menlo\", monospace;;\n",
       "    font-size: 13px;\n",
       "    color: #555;\n",
       "    margin-left: 4px;\n",
       "    line-height: 19px;\n",
       "  }\n",
       "</style>\n",
       "<div class=\"ansiout\"></div>"
      ]
     },
     "metadata": {
      "application/vnd.databricks.v1+output": {
       "addedWidgets": {},
       "arguments": {},
       "data": "<div class=\"ansiout\"></div>",
       "datasetInfos": [],
       "removedWidgets": [],
       "type": "html"
      }
     },
     "output_type": "display_data"
    }
   ],
   "source": [
    "# Convert Rows of dataframe to Dense Vectors:\n",
    "assembler = VectorAssembler(\n",
    "    inputCols=['artist_familiarity','duration','loudness','key_confidence','key','end_of_fade_in',\n",
    "               'time_signature_confidence','tempo','mode'],\n",
    "    outputCol='features')\n",
    "\n",
    "# Create linear regression object\n",
    "lr = LinearRegression(labelCol='song_hotttnesss', featuresCol='features')\n",
    "\n",
    "# Create a pipeline to sequentially perform operations on the training set:\n",
    "pipeline = Pipeline(stages=[assembler, lr])"
   ]
  },
  {
   "cell_type": "code",
   "execution_count": 0,
   "metadata": {
    "application/vnd.databricks.v1+cell": {
     "inputWidgets": {},
     "nuid": "5b9dfbb5-6fc3-46d7-a603-3a379651cf7d",
     "showTitle": false,
     "title": ""
    }
   },
   "outputs": [
    {
     "data": {
      "text/html": [
       "<style scoped>\n",
       "  .ansiout {\n",
       "    display: block;\n",
       "    unicode-bidi: embed;\n",
       "    white-space: pre-wrap;\n",
       "    word-wrap: break-word;\n",
       "    word-break: break-all;\n",
       "    font-family: \"Source Code Pro\", \"Menlo\", monospace;;\n",
       "    font-size: 13px;\n",
       "    color: #555;\n",
       "    margin-left: 4px;\n",
       "    line-height: 19px;\n",
       "  }\n",
       "</style>\n",
       "<div class=\"ansiout\"></div>"
      ]
     },
     "metadata": {
      "application/vnd.databricks.v1+output": {
       "addedWidgets": {},
       "arguments": {},
       "data": "<div class=\"ansiout\"></div>",
       "datasetInfos": [],
       "removedWidgets": [],
       "type": "html"
      }
     },
     "output_type": "display_data"
    }
   ],
   "source": [
    "# Perform 4-fold cross validation on the train dataset:\n",
    "paramGrid = ParamGridBuilder()\\\n",
    "    .addGrid(lr.regParam, [0.1, 0.01]) \\\n",
    "    .addGrid(lr.fitIntercept, [False, True])\\\n",
    "    .addGrid(lr.elasticNetParam, [0.0, 0.5, 1.0])\\\n",
    "    .build()\n",
    "\n",
    "crossval = CrossValidator(estimator=pipeline,\n",
    "                          estimatorParamMaps=paramGrid,\n",
    "                          evaluator=RegressionEvaluator(metricName=\"rmse\",labelCol=\"song_hotttnesss\",predictionCol=\"prediction\"),\n",
    "                          numFolds=4)\n",
    "\n",
    "#Train the model:\n",
    "cvModel = crossval.fit(train_df)"
   ]
  },
  {
   "cell_type": "code",
   "execution_count": 0,
   "metadata": {
    "application/vnd.databricks.v1+cell": {
     "inputWidgets": {},
     "nuid": "dbf698f0-9637-45c1-8b6e-887d1863b7be",
     "showTitle": false,
     "title": ""
    }
   },
   "outputs": [
    {
     "data": {
      "text/html": [
       "<style scoped>\n",
       "  .ansiout {\n",
       "    display: block;\n",
       "    unicode-bidi: embed;\n",
       "    white-space: pre-wrap;\n",
       "    word-wrap: break-word;\n",
       "    word-break: break-all;\n",
       "    font-family: \"Source Code Pro\", \"Menlo\", monospace;;\n",
       "    font-size: 13px;\n",
       "    color: #555;\n",
       "    margin-left: 4px;\n",
       "    line-height: 19px;\n",
       "  }\n",
       "</style>\n",
       "<div class=\"ansiout\">+--------------------+------------------+--------------------+\n",
       "          prediction|   song_hotttnesss|            features|\n",
       "+--------------------+------------------+--------------------+\n",
       "0.038093410492879995|               0.0|[0.09212507341234...|\n",
       " 0.18604405209096578|0.1932942471386456|[0.28971163662498...|\n",
       " 0.22468670251856274|0.2570629202962798|[0.34151385491859...|\n",
       " 0.27418222432394046|0.2663430816204065|[0.40979662059906...|\n",
       " 0.28657932309841266|0.3070843081171468|[0.43162203515864...|\n",
       "+--------------------+------------------+--------------------+\n",
       "only showing top 5 rows\n",
       "\n",
       "Root Mean Squared Error (RMSE) on test data = 0.0877655\n",
       "</div>"
      ]
     },
     "metadata": {
      "application/vnd.databricks.v1+output": {
       "addedWidgets": {},
       "arguments": {},
       "data": "<div class=\"ansiout\">+--------------------+------------------+--------------------+\n|          prediction|   song_hotttnesss|            features|\n+--------------------+------------------+--------------------+\n|0.038093410492879995|               0.0|[0.09212507341234...|\n| 0.18604405209096578|0.1932942471386456|[0.28971163662498...|\n| 0.22468670251856274|0.2570629202962798|[0.34151385491859...|\n| 0.27418222432394046|0.2663430816204065|[0.40979662059906...|\n| 0.28657932309841266|0.3070843081171468|[0.43162203515864...|\n+--------------------+------------------+--------------------+\nonly showing top 5 rows\n\nRoot Mean Squared Error (RMSE) on test data = 0.0877655\n</div>",
       "datasetInfos": [
        {
         "name": "predictions",
         "schema": {
          "fields": [
           {
            "metadata": {},
            "name": "artist_familiarity",
            "nullable": true,
            "type": "double"
           },
           {
            "metadata": {},
            "name": "duration",
            "nullable": true,
            "type": "double"
           },
           {
            "metadata": {},
            "name": "loudness",
            "nullable": true,
            "type": "double"
           },
           {
            "metadata": {},
            "name": "key_confidence",
            "nullable": true,
            "type": "double"
           },
           {
            "metadata": {},
            "name": "key",
            "nullable": true,
            "type": "double"
           },
           {
            "metadata": {},
            "name": "end_of_fade_in",
            "nullable": true,
            "type": "double"
           },
           {
            "metadata": {},
            "name": "time_signature_confidence",
            "nullable": true,
            "type": "double"
           },
           {
            "metadata": {},
            "name": "tempo",
            "nullable": true,
            "type": "double"
           },
           {
            "metadata": {},
            "name": "mode",
            "nullable": true,
            "type": "double"
           },
           {
            "metadata": {},
            "name": "song_hotttnesss",
            "nullable": true,
            "type": "double"
           },
           {
            "metadata": {
             "ml_attr": {
              "attrs": {
               "numeric": [
                {
                 "idx": 0,
                 "name": "artist_familiarity"
                },
                {
                 "idx": 1,
                 "name": "duration"
                },
                {
                 "idx": 2,
                 "name": "loudness"
                },
                {
                 "idx": 3,
                 "name": "key_confidence"
                },
                {
                 "idx": 4,
                 "name": "key"
                },
                {
                 "idx": 5,
                 "name": "end_of_fade_in"
                },
                {
                 "idx": 6,
                 "name": "time_signature_confidence"
                },
                {
                 "idx": 7,
                 "name": "tempo"
                },
                {
                 "idx": 8,
                 "name": "mode"
                }
               ]
              },
              "num_attrs": 9
             }
            },
            "name": "features",
            "nullable": true,
            "type": {
             "class": "org.apache.spark.ml.linalg.VectorUDT",
             "pyClass": "pyspark.ml.linalg.VectorUDT",
             "sqlType": {
              "fields": [
               {
                "metadata": {},
                "name": "type",
                "nullable": false,
                "type": "byte"
               },
               {
                "metadata": {},
                "name": "size",
                "nullable": true,
                "type": "integer"
               },
               {
                "metadata": {},
                "name": "indices",
                "nullable": true,
                "type": {
                 "containsNull": false,
                 "elementType": "integer",
                 "type": "array"
                }
               },
               {
                "metadata": {},
                "name": "values",
                "nullable": true,
                "type": {
                 "containsNull": false,
                 "elementType": "double",
                 "type": "array"
                }
               }
              ],
              "type": "struct"
             },
             "type": "udt"
            }
           },
           {
            "metadata": {},
            "name": "prediction",
            "nullable": false,
            "type": "double"
           }
          ],
          "type": "struct"
         },
         "tableIdentifier": null,
         "typeStr": "pyspark.sql.dataframe.DataFrame"
        }
       ],
       "removedWidgets": [],
       "type": "html"
      }
     },
     "output_type": "display_data"
    }
   ],
   "source": [
    "# Make predictions on test set\n",
    "predictions = cvModel.transform(test_df_model)\n",
    "\n",
    "# Select example rows to display.\n",
    "predictions.select(\"prediction\", \"song_hotttnesss\", \"features\").show(5)\n",
    "\n",
    "# Select (prediction, true label) and compute test error\n",
    "evaluator = RegressionEvaluator(\n",
    "    labelCol=\"song_hotttnesss\", predictionCol=\"prediction\", metricName=\"rmse\")\n",
    "rmse = evaluator.evaluate(predictions)\n",
    "\n",
    "# Print RMSE:\n",
    "print(\"Root Mean Squared Error (RMSE) on test data = %g\" % rmse)"
   ]
  },
  {
   "cell_type": "markdown",
   "metadata": {
    "application/vnd.databricks.v1+cell": {
     "inputWidgets": {},
     "nuid": "9098019d-8456-4936-8889-d5e3a69d704f",
     "showTitle": false,
     "title": ""
    }
   },
   "source": [
    "##Gradient Boosted Tree Regression Model"
   ]
  },
  {
   "cell_type": "code",
   "execution_count": 0,
   "metadata": {
    "application/vnd.databricks.v1+cell": {
     "inputWidgets": {},
     "nuid": "057afdfa-85d6-4d07-99b8-eb92d1011f33",
     "showTitle": false,
     "title": ""
    }
   },
   "outputs": [
    {
     "data": {
      "text/html": [
       "<style scoped>\n",
       "  .ansiout {\n",
       "    display: block;\n",
       "    unicode-bidi: embed;\n",
       "    white-space: pre-wrap;\n",
       "    word-wrap: break-word;\n",
       "    word-break: break-all;\n",
       "    font-family: \"Source Code Pro\", \"Menlo\", monospace;;\n",
       "    font-size: 13px;\n",
       "    color: #555;\n",
       "    margin-left: 4px;\n",
       "    line-height: 19px;\n",
       "  }\n",
       "</style>\n",
       "<div class=\"ansiout\"></div>"
      ]
     },
     "metadata": {
      "application/vnd.databricks.v1+output": {
       "addedWidgets": {},
       "arguments": {},
       "data": "<div class=\"ansiout\"></div>",
       "datasetInfos": [],
       "removedWidgets": [],
       "type": "html"
      }
     },
     "output_type": "display_data"
    },
    {
     "data": {
      "text/html": [
       "<style scoped>\n",
       "  .ansiout {\n",
       "    display: block;\n",
       "    unicode-bidi: embed;\n",
       "    white-space: pre-wrap;\n",
       "    word-wrap: break-word;\n",
       "    word-break: break-all;\n",
       "    font-family: \"Source Code Pro\", \"Menlo\", monospace;;\n",
       "    font-size: 13px;\n",
       "    color: #555;\n",
       "    margin-left: 4px;\n",
       "    line-height: 19px;\n",
       "  }\n",
       "</style>"
      ]
     },
     "metadata": {
      "application/vnd.databricks.v1+output": {
       "arguments": {},
       "data": "",
       "errorSummary": "Cancelled",
       "type": "ipynbError"
      }
     },
     "output_type": "display_data"
    }
   ],
   "source": [
    "# Create GBT regression object:\n",
    "xgb = GBTRegressor(featuresCol=\"features\",labelCol=\"song_hotttnesss\",maxIter =10)\n",
    "\n",
    "# Chain indexer and forest in a Pipeline. Use same assembler object as before:\n",
    "pipeline = Pipeline(stages=[assembler, xgb])\n",
    "\n",
    "# Train model.  This also runs the indexer.\n",
    "model_xgb = pipeline.fit(train_df)"
   ]
  },
  {
   "cell_type": "code",
   "execution_count": 0,
   "metadata": {
    "application/vnd.databricks.v1+cell": {
     "inputWidgets": {},
     "nuid": "d6d6187b-3605-477c-9ab9-4e976d029649",
     "showTitle": false,
     "title": ""
    }
   },
   "outputs": [
    {
     "data": {
      "text/html": [
       "<style scoped>\n",
       "  .ansiout {\n",
       "    display: block;\n",
       "    unicode-bidi: embed;\n",
       "    white-space: pre-wrap;\n",
       "    word-wrap: break-word;\n",
       "    word-break: break-all;\n",
       "    font-family: \"Source Code Pro\", \"Menlo\", monospace;;\n",
       "    font-size: 13px;\n",
       "    color: #555;\n",
       "    margin-left: 4px;\n",
       "    line-height: 19px;\n",
       "  }\n",
       "</style>\n",
       "<div class=\"ansiout\">+-------------------+-------------------+--------------------+\n",
       "         prediction|    song_hotttnesss|        features_out|\n",
       "+-------------------+-------------------+--------------------+\n",
       " 0.2911320867698737| 0.3606256705962805|[0.46191743086070...|\n",
       " 0.4511209869084999| 0.5172980180255892|[0.70528767807757...|\n",
       " 0.1780587307754205|0.14519082979005074|[0.31385115159841...|\n",
       "0.29839359725410197| 0.3464199468255268|[0.44577274776003...|\n",
       "  0.346460063369435|0.37996076697507797|[0.49883497525793...|\n",
       "+-------------------+-------------------+--------------------+\n",
       "only showing top 5 rows\n",
       "\n",
       "Root Mean Squared Error (RMSE) on test data = 0.0866281\n",
       "</div>"
      ]
     },
     "metadata": {
      "application/vnd.databricks.v1+output": {
       "addedWidgets": {},
       "arguments": {},
       "data": "<div class=\"ansiout\">+-------------------+-------------------+--------------------+\n|         prediction|    song_hotttnesss|        features_out|\n+-------------------+-------------------+--------------------+\n| 0.2911320867698737| 0.3606256705962805|[0.46191743086070...|\n| 0.4511209869084999| 0.5172980180255892|[0.70528767807757...|\n| 0.1780587307754205|0.14519082979005074|[0.31385115159841...|\n|0.29839359725410197| 0.3464199468255268|[0.44577274776003...|\n|  0.346460063369435|0.37996076697507797|[0.49883497525793...|\n+-------------------+-------------------+--------------------+\nonly showing top 5 rows\n\nRoot Mean Squared Error (RMSE) on test data = 0.0866281\n</div>",
       "datasetInfos": [
        {
         "name": "predictions_xgb",
         "schema": {
          "fields": [
           {
            "metadata": {},
            "name": "loudness",
            "nullable": true,
            "type": "double"
           },
           {
            "metadata": {},
            "name": "song_hotttnesss",
            "nullable": true,
            "type": "double"
           },
           {
            "metadata": {},
            "name": "mode",
            "nullable": true,
            "type": "double"
           },
           {
            "metadata": {},
            "name": "key",
            "nullable": true,
            "type": "double"
           },
           {
            "metadata": {},
            "name": "artist_familiarity",
            "nullable": true,
            "type": "double"
           },
           {
            "metadata": {},
            "name": "tempo",
            "nullable": true,
            "type": "double"
           },
           {
            "metadata": {
             "ml_attr": {
              "attrs": {
               "numeric": [
                {
                 "idx": 0,
                 "name": "artist_familiarity"
                },
                {
                 "idx": 1,
                 "name": "loudness"
                },
                {
                 "idx": 2,
                 "name": "key"
                },
                {
                 "idx": 3,
                 "name": "mode"
                },
                {
                 "idx": 4,
                 "name": "tempo"
                }
               ]
              },
              "num_attrs": 5
             }
            },
            "name": "features_out",
            "nullable": true,
            "type": {
             "class": "org.apache.spark.ml.linalg.VectorUDT",
             "pyClass": "pyspark.ml.linalg.VectorUDT",
             "sqlType": {
              "fields": [
               {
                "metadata": {},
                "name": "type",
                "nullable": false,
                "type": "byte"
               },
               {
                "metadata": {},
                "name": "size",
                "nullable": true,
                "type": "integer"
               },
               {
                "metadata": {},
                "name": "indices",
                "nullable": true,
                "type": {
                 "containsNull": false,
                 "elementType": "integer",
                 "type": "array"
                }
               },
               {
                "metadata": {},
                "name": "values",
                "nullable": true,
                "type": {
                 "containsNull": false,
                 "elementType": "double",
                 "type": "array"
                }
               }
              ],
              "type": "struct"
             },
             "type": "udt"
            }
           },
           {
            "metadata": {},
            "name": "prediction",
            "nullable": false,
            "type": "double"
           }
          ],
          "type": "struct"
         },
         "tableIdentifier": null,
         "typeStr": "pyspark.sql.dataframe.DataFrame"
        }
       ],
       "removedWidgets": [],
       "type": "html"
      }
     },
     "output_type": "display_data"
    }
   ],
   "source": [
    "# Evaluate the model on test dataset:\n",
    "predictions_xgb = model_xgb.transform(test_df_model)\n",
    "\n",
    "# Select example rows to display.\n",
    "predictions_xgb.select(\"prediction\", \"song_hotttnesss\", \"features\").show(5)\n",
    "\n",
    "# Select (prediction, true label) and compute test error\n",
    "evaluator_xgb = RegressionEvaluator(\n",
    "    labelCol=\"song_hotttnesss\", predictionCol=\"prediction\", metricName=\"rmse\")\n",
    "rmse = evaluator_xgb.evaluate(predictions_xgb)\n",
    "\n",
    "# Print RMSE:\n",
    "print(\"Root Mean Squared Error (RMSE) on test data = %g\" % rmse)"
   ]
  },
  {
   "cell_type": "markdown",
   "metadata": {
    "application/vnd.databricks.v1+cell": {
     "inputWidgets": {},
     "nuid": "1492fa24-0d88-4a23-a9f2-63a8adc47490",
     "showTitle": false,
     "title": ""
    }
   },
   "source": [
    "##Isotonic Regression"
   ]
  },
  {
   "cell_type": "code",
   "execution_count": 0,
   "metadata": {
    "application/vnd.databricks.v1+cell": {
     "inputWidgets": {},
     "nuid": "fd689854-bf0f-4df8-84c4-1a2f3867b8d5",
     "showTitle": false,
     "title": ""
    }
   },
   "outputs": [
    {
     "data": {
      "text/html": [
       "<style scoped>\n",
       "  .ansiout {\n",
       "    display: block;\n",
       "    unicode-bidi: embed;\n",
       "    white-space: pre-wrap;\n",
       "    word-wrap: break-word;\n",
       "    word-break: break-all;\n",
       "    font-family: \"Source Code Pro\", \"Menlo\", monospace;;\n",
       "    font-size: 13px;\n",
       "    color: #555;\n",
       "    margin-left: 4px;\n",
       "    line-height: 19px;\n",
       "  }\n",
       "</style>\n",
       "<div class=\"ansiout\"></div>"
      ]
     },
     "metadata": {
      "application/vnd.databricks.v1+output": {
       "addedWidgets": {},
       "arguments": {},
       "data": "<div class=\"ansiout\"></div>",
       "datasetInfos": [],
       "removedWidgets": [],
       "type": "html"
      }
     },
     "output_type": "display_data"
    }
   ],
   "source": [
    "# Create Isotonic Regression object:\n",
    "isoreg = IsotonicRegression(featuresCol=\"features\",labelCol=\"song_hotttnesss\")\n",
    "\n",
    "# Chain indexer and forest in a Pipeline\n",
    "pipeline = Pipeline(stages=[assembler, isoreg])"
   ]
  },
  {
   "cell_type": "code",
   "execution_count": 0,
   "metadata": {
    "application/vnd.databricks.v1+cell": {
     "inputWidgets": {},
     "nuid": "acacaf10-cc58-4dda-8999-426c8cd7c817",
     "showTitle": false,
     "title": ""
    }
   },
   "outputs": [
    {
     "data": {
      "text/html": [
       "<style scoped>\n",
       "  .ansiout {\n",
       "    display: block;\n",
       "    unicode-bidi: embed;\n",
       "    white-space: pre-wrap;\n",
       "    word-wrap: break-word;\n",
       "    word-break: break-all;\n",
       "    font-family: \"Source Code Pro\", \"Menlo\", monospace;;\n",
       "    font-size: 13px;\n",
       "    color: #555;\n",
       "    margin-left: 4px;\n",
       "    line-height: 19px;\n",
       "  }\n",
       "</style>\n",
       "<div class=\"ansiout\">/databricks/spark/python/pyspark/ml/util.py:791: UserWarning: Cannot find mlflow module. To enable MLflow logging, install mlflow from PyPI.\n",
       "  warnings.warn(_MLflowInstrumentation._NO_MLFLOW_WARNING)\n",
       "</div>"
      ]
     },
     "metadata": {
      "application/vnd.databricks.v1+output": {
       "addedWidgets": {},
       "arguments": {},
       "data": "<div class=\"ansiout\">/databricks/spark/python/pyspark/ml/util.py:791: UserWarning: Cannot find mlflow module. To enable MLflow logging, install mlflow from PyPI.\n  warnings.warn(_MLflowInstrumentation._NO_MLFLOW_WARNING)\n</div>",
       "datasetInfos": [],
       "removedWidgets": [],
       "type": "html"
      }
     },
     "output_type": "display_data"
    },
    {
     "data": {
      "text/html": [
       "<style scoped>\n",
       "  .ansiout {\n",
       "    display: block;\n",
       "    unicode-bidi: embed;\n",
       "    white-space: pre-wrap;\n",
       "    word-wrap: break-word;\n",
       "    word-break: break-all;\n",
       "    font-family: \"Source Code Pro\", \"Menlo\", monospace;;\n",
       "    font-size: 13px;\n",
       "    color: #555;\n",
       "    margin-left: 4px;\n",
       "    line-height: 19px;\n",
       "  }\n",
       "</style>"
      ]
     },
     "metadata": {
      "application/vnd.databricks.v1+output": {
       "arguments": {},
       "data": "",
       "errorSummary": "Cancelled",
       "type": "ipynbError"
      }
     },
     "output_type": "display_data"
    }
   ],
   "source": [
    "# Perform 4-fold cross validation:\n",
    "paramGrid = ParamGridBuilder()\\\n",
    "    .addGrid(lr.regParam, [0.1, 0.01]) \\\n",
    "    .addGrid(lr.fitIntercept, [False, True])\\\n",
    "    .addGrid(lr.elasticNetParam, [0.0, 0.5, 1.0])\\\n",
    "    .build()\n",
    "\n",
    "crossval = CrossValidator(estimator=pipeline,\n",
    "                          estimatorParamMaps=paramGrid,\n",
    "                          evaluator=RegressionEvaluator(metricName ='rmse',labelCol=\"song_hotttnesss\"),\n",
    "                          numFolds=4)\n",
    "\n",
    "# Train the model:\n",
    "model_isoreg = crossval.fit(train_df)"
   ]
  },
  {
   "cell_type": "code",
   "execution_count": 0,
   "metadata": {
    "application/vnd.databricks.v1+cell": {
     "inputWidgets": {},
     "nuid": "5f4cffd5-a0c3-4b61-ae6f-92b1a4bb6d86",
     "showTitle": false,
     "title": ""
    }
   },
   "outputs": [
    {
     "data": {
      "text/html": [
       "<style scoped>\n",
       "  .ansiout {\n",
       "    display: block;\n",
       "    unicode-bidi: embed;\n",
       "    white-space: pre-wrap;\n",
       "    word-wrap: break-word;\n",
       "    word-break: break-all;\n",
       "    font-family: \"Source Code Pro\", \"Menlo\", monospace;;\n",
       "    font-size: 13px;\n",
       "    color: #555;\n",
       "    margin-left: 4px;\n",
       "    line-height: 19px;\n",
       "  }\n",
       "</style>"
      ]
     },
     "metadata": {
      "application/vnd.databricks.v1+output": {
       "arguments": {},
       "data": "",
       "errorSummary": "",
       "type": "ipynbError"
      }
     },
     "output_type": "display_data"
    }
   ],
   "source": [
    "# Evaluate the model on test dataset:\n",
    "predictions_isoreg = model_isoreg.transform(test_df_model)\n",
    "\n",
    "# Select example rows to display.\n",
    "predictions_isoreg.select(\"prediction\", \"song_hotttnesss\", \"features\").show(5)\n",
    "\n",
    "# Select (prediction, true label) and compute test error\n",
    "evaluator_isoreg = RegressionEvaluator(\n",
    "    labelCol=\"song_hotttnesss\", predictionCol=\"prediction\", metricName=\"rmse\")\n",
    "rmse = evaluator_isoreg.evaluate(predictions_isoreg)\n",
    "\n",
    "# Print RMSE\n",
    "print(\"Root Mean Squared Error (RMSE) on test data = %g\" % rmse)"
   ]
  }
 ],
 "metadata": {
  "application/vnd.databricks.v1+notebook": {
   "dashboards": [],
   "language": "python",
   "notebookName": "LinearReg_All",
   "notebookOrigID": 4350276136885696,
   "widgets": {}
  },
  "kernelspec": {
   "display_name": "Python 3",
   "language": "python",
   "name": "python3"
  },
  "language_info": {
   "codemirror_mode": {
    "name": "ipython",
    "version": 3
   },
   "file_extension": ".py",
   "mimetype": "text/x-python",
   "name": "python",
   "nbconvert_exporter": "python",
   "pygments_lexer": "ipython3",
   "version": "3.7.4"
  }
 },
 "nbformat": 4,
 "nbformat_minor": 1
}
