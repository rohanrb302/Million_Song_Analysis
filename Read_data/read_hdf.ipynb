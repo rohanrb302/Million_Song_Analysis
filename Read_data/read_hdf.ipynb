{
 "metadata": {
  "language_info": {
   "codemirror_mode": {
    "name": "ipython",
    "version": 3
   },
   "file_extension": ".py",
   "mimetype": "text/x-python",
   "name": "python",
   "nbconvert_exporter": "python",
   "pygments_lexer": "ipython3",
   "version": "3.7.6-final"
  },
  "orig_nbformat": 2,
  "kernelspec": {
   "name": "python3",
   "display_name": "Python 3"
  }
 },
 "nbformat": 4,
 "nbformat_minor": 2,
 "cells": [
  {
   "cell_type": "code",
   "execution_count": 1,
   "metadata": {},
   "outputs": [],
   "source": [
    "import h5py\n",
    "import tables\n",
    "import os\n",
    "import sys\n",
    "import glob\n",
    "import pandas as pd \n",
    "from fnmatch import fnmatch\n",
    "from hd5_getters import *\n",
    "from tqdm import tqdm\n",
    "\n"
   ]
  },
  {
   "cell_type": "code",
   "execution_count": 2,
   "metadata": {},
   "outputs": [],
   "source": [
    "DIR = \"/Users/rohanbansal/Documents/CMU/Sem_2/10605/project/MillionSongSubset/data/\""
   ]
  },
  {
   "cell_type": "code",
   "execution_count": 3,
   "metadata": {
    "tags": []
   },
   "outputs": [],
   "source": [
    "# Ref :https://stackoverflow.com/questions/2909975/python-list-directory-subdirectory-and-files\n",
    "root = DIR\n",
    "pattern = \"*.h5\"\n",
    "count =0\n",
    "list_of_files=[]\n"
   ]
  },
  {
   "cell_type": "code",
   "execution_count": 4,
   "metadata": {},
   "outputs": [],
   "source": [
    "for path, subdirs, files in os.walk(root):\n",
    "    for name in files:\n",
    "        if fnmatch(name, pattern):\n",
    "            count +=1\n",
    "            list_of_files.append(os.path.join(path, name))"
   ]
  },
  {
   "cell_type": "code",
   "execution_count": 5,
   "metadata": {},
   "outputs": [
    {
     "output_type": "execute_result",
     "data": {
      "text/plain": [
       "10000"
      ]
     },
     "metadata": {},
     "execution_count": 5
    }
   ],
   "source": [
    "len(list_of_files)"
   ]
  },
  {
   "cell_type": "code",
   "execution_count": 6,
   "metadata": {},
   "outputs": [],
   "source": [
    "col_name = [\"artist_familiarity\", \"artist_hotttnesss\", \"artist_id\", \"artist_location\", \"artist_mbtags\", \"artist_mbtags_count\", \"artist_name\", \"artist_terms\", \"artist_terms_freq\", \"artist_terms_weight\", \"danceability\", \"duration\", \"end_of_fade_in\", \"energy\", \"key\",\"key_confidence\", \"loudness\", \"mode\", \"mode_confidence\", \"release\", \n",
    " \"segments_confidence\", \"segments_loudness_max\", \"segments_loudness_max_time\", \n",
    "\"segments_pitches\", \"segments_timbre\", \"similar_artists\", \n",
    "\"song_hotttnesss\", \"song_id\", \"start_of_fade_out\", \"tempo\", \"time_signature\", \n",
    "\"time_signature_confidence\", \"title\", \"track_id\", \"year\"]"
   ]
  },
  {
   "cell_type": "code",
   "execution_count": 8,
   "metadata": {},
   "outputs": [],
   "source": [
    "def read_h5_to_list(filename):\n",
    "    df = pd.DataFrame(columns=col_name)\n",
    "    h5tocopy = open_h5_file_read(filename)\n",
    "    song_num = get_num_songs(h5tocopy)\n",
    "    for songidx in range(song_num):\n",
    "        song_info = []\n",
    "        # METADATA\n",
    "        song_info.append(float(get_artist_familiarity(h5tocopy,songidx)))\n",
    "        song_info.append(float(get_artist_hotttnesss(h5tocopy,songidx)))\n",
    "        song_info.append(str(get_artist_id(h5tocopy,songidx)))\n",
    "        song_info.append(str(get_artist_location(h5tocopy,songidx)))\n",
    "        song_info.append(get_artist_mbtags(h5tocopy,songidx).tolist())\n",
    "        song_info.append(get_artist_mbtags_count(h5tocopy,songidx).tolist())\n",
    "        song_info.append(str(get_artist_name(h5tocopy,songidx)))\n",
    "        song_info.append(get_artist_terms(h5tocopy,songidx).tolist())\n",
    "        song_info.append(get_artist_terms_freq(h5tocopy,songidx).tolist())\n",
    "        song_info.append(get_artist_terms_weight(h5tocopy,songidx).tolist())\n",
    "        song_info.append(float(get_danceability(h5tocopy,songidx)))\n",
    "        song_info.append(float(get_duration(h5tocopy,songidx)))\n",
    "        song_info.append(float(get_end_of_fade_in(h5tocopy,songidx)))\n",
    "        song_info.append(float(get_energy(h5tocopy,songidx)))\n",
    "        song_info.append(float(get_key(h5tocopy,songidx)))\n",
    "        song_info.append(float(get_key_confidence(h5tocopy,songidx)))\n",
    "        song_info.append(float(get_loudness(h5tocopy,songidx)))\n",
    "        song_info.append(float(get_mode(h5tocopy,songidx)))\n",
    "        song_info.append(float(get_mode_confidence(h5tocopy,songidx)))\n",
    "        song_info.append(str(get_release(h5tocopy,songidx)))\n",
    "        song_info.append(get_segments_confidence(h5tocopy,songidx).tolist())        \n",
    "        song_info.append(get_segments_loudness_max(h5tocopy,songidx).tolist())        \n",
    "        song_info.append(get_segments_loudness_max_time(h5tocopy,songidx).tolist())    \n",
    "        song_info.append(get_segments_pitches(h5tocopy,songidx).tolist())    \n",
    "        song_info.append(get_segments_timbre(h5tocopy,songidx).tolist())    \n",
    "        song_info.append(get_similar_artists(h5tocopy,songidx).tolist())   \n",
    "        song_info.append(float(get_artist_hotttnesss(h5tocopy,songidx)))\n",
    "        song_info.append(str(get_song_id(h5tocopy,songidx)))\n",
    "        song_info.append(float(get_start_of_fade_out(h5tocopy,songidx)))\n",
    "        song_info.append(float(get_tempo(h5tocopy,songidx)))\n",
    "        song_info.append(int(get_time_signature(h5tocopy,songidx)))\n",
    "        song_info.append(float(get_time_signature_confidence(h5tocopy,songidx)))\n",
    "        song_info.append(str(get_title(h5tocopy,songidx)))\n",
    "        song_info.append(str(get_track_id(h5tocopy,songidx)))\n",
    "        song_info.append(int(get_year(h5tocopy,songidx)))\n",
    "        song_series = pd.Series(song_info,index=col_name)\n",
    "        # df=df.append(song_series,ignore_index=True)\n",
    "\n",
    "    h5tocopy.close()\n",
    "    return song_series"
   ]
  },
  {
   "cell_type": "code",
   "execution_count": 9,
   "metadata": {},
   "outputs": [
    {
     "output_type": "stream",
     "name": "stderr",
     "text": [
      "100%|██████████| 10000/10000 [08:25<00:00, 19.77it/s]\n"
     ]
    }
   ],
   "source": [
    "list_of_song_series=[]\n",
    "for file in tqdm(list_of_files):\n",
    "    list_of_song_series.append(read_h5_to_list(file))"
   ]
  },
  {
   "cell_type": "code",
   "execution_count": 12,
   "metadata": {},
   "outputs": [
    {
     "output_type": "stream",
     "name": "stderr",
     "text": [
      "100%|██████████| 10000/10000 [04:48<00:00, 34.63it/s]\n"
     ]
    }
   ],
   "source": [
    "song_df = pd.DataFrame(columns=col_name)\n",
    "for song_series in tqdm(list_of_song_series):\n",
    "    song_df=song_df.append(song_series,ignore_index=True)\n"
   ]
  },
  {
   "cell_type": "code",
   "execution_count": 13,
   "metadata": {},
   "outputs": [
    {
     "output_type": "stream",
     "name": "stdout",
     "text": [
      "<class 'pandas.core.frame.DataFrame'>\nRangeIndex: 10000 entries, 0 to 9999\nData columns (total 35 columns):\n #   Column                      Non-Null Count  Dtype  \n---  ------                      --------------  -----  \n 0   artist_familiarity          9996 non-null   float64\n 1   artist_hotttnesss           10000 non-null  float64\n 2   artist_id                   10000 non-null  object \n 3   artist_location             10000 non-null  object \n 4   artist_mbtags               10000 non-null  object \n 5   artist_mbtags_count         10000 non-null  object \n 6   artist_name                 10000 non-null  object \n 7   artist_terms                10000 non-null  object \n 8   artist_terms_freq           10000 non-null  object \n 9   artist_terms_weight         10000 non-null  object \n 10  danceability                10000 non-null  float64\n 11  duration                    10000 non-null  float64\n 12  end_of_fade_in              10000 non-null  float64\n 13  energy                      10000 non-null  float64\n 14  key                         10000 non-null  float64\n 15  key_confidence              10000 non-null  float64\n 16  loudness                    10000 non-null  float64\n 17  mode                        10000 non-null  float64\n 18  mode_confidence             10000 non-null  float64\n 19  release                     10000 non-null  object \n 20  segments_confidence         10000 non-null  object \n 21  segments_loudness_max       10000 non-null  object \n 22  segments_loudness_max_time  10000 non-null  object \n 23  segments_pitches            10000 non-null  object \n 24  segments_timbre             10000 non-null  object \n 25  similar_artists             10000 non-null  object \n 26  song_hotttnesss             10000 non-null  float64\n 27  song_id                     10000 non-null  object \n 28  start_of_fade_out           10000 non-null  float64\n 29  tempo                       10000 non-null  float64\n 30  time_signature              10000 non-null  object \n 31  time_signature_confidence   10000 non-null  float64\n 32  title                       10000 non-null  object \n 33  track_id                    10000 non-null  object \n 34  year                        10000 non-null  object \ndtypes: float64(15), object(20)\nmemory usage: 2.7+ MB\n"
     ]
    }
   ],
   "source": [
    "song_df.info()"
   ]
  },
  {
   "cell_type": "code",
   "execution_count": 14,
   "metadata": {},
   "outputs": [],
   "source": [
    "# Free memory\n",
    "del list_of_song_series"
   ]
  },
  {
   "cell_type": "code",
   "execution_count": 18,
   "metadata": {},
   "outputs": [
    {
     "output_type": "execute_result",
     "data": {
      "text/plain": [
       "(10000, 35)"
      ]
     },
     "metadata": {},
     "execution_count": 18
    }
   ],
   "source": [
    "song_df.shape"
   ]
  },
  {
   "cell_type": "code",
   "execution_count": 19,
   "metadata": {},
   "outputs": [],
   "source": [
    "song_small_filename = \"/Users/rohanbansal/Documents/CMU/Sem_2/10605/project/MillionSongSubset/data/song_small.csv\""
   ]
  },
  {
   "cell_type": "code",
   "execution_count": 22,
   "metadata": {},
   "outputs": [],
   "source": [
    "compression_opts = dict(method='zip',archive_name='song_small.csv')  \n",
    "song_df.to_csv('song_small.zip', index=False,compression=compression_opts)  "
   ]
  },
  {
   "cell_type": "code",
   "execution_count": null,
   "metadata": {},
   "outputs": [],
   "source": []
  }
 ]
}